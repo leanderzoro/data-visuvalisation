{
 "cells": [
  {
   "cell_type": "markdown",
   "id": "90174a92-a343-4df2-b0ca-11339228c74c",
   "metadata": {
    "canvas": {
     "comments": [],
     "componentType": "CodeCell",
     "copiedOriginId": null,
     "diskcache": false,
     "headerColor": "transparent",
     "id": "713d0ac3-8e7e-449a-b9a5-fc2bcca656c2",
     "isComponent": false,
     "name": "",
     "parents": []
    },
    "tags": []
   },
   "source": [
    "# Plotly"
   ]
  },
  {
   "cell_type": "markdown",
   "id": "50adb62a-c3ad-4e3c-a2b0-2f8134b8ab18",
   "metadata": {
    "canvas": {
     "comments": [],
     "componentType": "CodeCell",
     "copiedOriginId": null,
     "diskcache": false,
     "headerColor": "transparent",
     "id": "eaf3c1c4-721f-470f-81ac-9f5581323607",
     "isComponent": false,
     "name": "",
     "parents": []
    },
    "tags": []
   },
   "source": [
    "## Setup"
   ]
  },
  {
   "cell_type": "code",
   "execution_count": 1,
   "id": "68b1448d-e632-49a0-8b34-a2bfc169f37f",
   "metadata": {
    "canvas": {
     "comments": [],
     "componentType": "CodeCell",
     "copiedOriginId": null,
     "diskcache": false,
     "headerColor": "transparent",
     "id": "35d69c06-2952-448d-a383-bf40af87a93b",
     "isComponent": false,
     "name": "",
     "parents": []
    },
    "tags": []
   },
   "outputs": [
    {
     "name": "stdout",
     "output_type": "stream",
     "text": [
      "setup complete\n"
     ]
    }
   ],
   "source": [
    "import pandas as pd\n",
    "import plotly\n",
    "import plotly.express as px\n",
    "import plotly.io as pio\n",
    "print('setup complete')"
   ]
  },
  {
   "cell_type": "code",
   "execution_count": 2,
   "id": "437a844d-9003-4107-9118-2df375ddf140",
   "metadata": {
    "canvas": {
     "comments": [],
     "componentType": "CodeCell",
     "copiedOriginId": null,
     "diskcache": false,
     "headerColor": "transparent",
     "id": "0ad395a0-ba33-460a-b3c7-cd102ebcba78",
     "isComponent": false,
     "name": "",
     "parents": []
    }
   },
   "outputs": [],
   "source": [
    "df = pd.read_csv(\"C:\\\\Users\\\\LENOVO\\\\for datascience\\\\practice data\\\\StudentsPerformance.csv\")"
   ]
  },
  {
   "cell_type": "code",
   "execution_count": 3,
   "id": "be3d9703-ce22-41c7-9b4b-0cf84fc6c8c2",
   "metadata": {
    "canvas": {
     "comments": [],
     "componentType": "CodeCell",
     "copiedOriginId": null,
     "diskcache": false,
     "headerColor": "transparent",
     "id": "c5be1bf8-4c2e-4a20-95ec-af307eba973f",
     "isComponent": false,
     "name": "",
     "parents": []
    }
   },
   "outputs": [
    {
     "data": {
      "text/html": [
       "<div>\n",
       "<style scoped>\n",
       "    .dataframe tbody tr th:only-of-type {\n",
       "        vertical-align: middle;\n",
       "    }\n",
       "\n",
       "    .dataframe tbody tr th {\n",
       "        vertical-align: top;\n",
       "    }\n",
       "\n",
       "    .dataframe thead th {\n",
       "        text-align: right;\n",
       "    }\n",
       "</style>\n",
       "<table border=\"1\" class=\"dataframe\">\n",
       "  <thead>\n",
       "    <tr style=\"text-align: right;\">\n",
       "      <th></th>\n",
       "      <th>gender</th>\n",
       "      <th>race/ethnicity</th>\n",
       "      <th>parental level of education</th>\n",
       "      <th>lunch</th>\n",
       "      <th>test preparation course</th>\n",
       "      <th>math score</th>\n",
       "      <th>reading score</th>\n",
       "      <th>writing score</th>\n",
       "    </tr>\n",
       "  </thead>\n",
       "  <tbody>\n",
       "    <tr>\n",
       "      <th>0</th>\n",
       "      <td>female</td>\n",
       "      <td>group B</td>\n",
       "      <td>bachelor's degree</td>\n",
       "      <td>standard</td>\n",
       "      <td>none</td>\n",
       "      <td>72</td>\n",
       "      <td>72</td>\n",
       "      <td>74</td>\n",
       "    </tr>\n",
       "    <tr>\n",
       "      <th>1</th>\n",
       "      <td>female</td>\n",
       "      <td>group C</td>\n",
       "      <td>some college</td>\n",
       "      <td>standard</td>\n",
       "      <td>completed</td>\n",
       "      <td>69</td>\n",
       "      <td>90</td>\n",
       "      <td>88</td>\n",
       "    </tr>\n",
       "    <tr>\n",
       "      <th>2</th>\n",
       "      <td>female</td>\n",
       "      <td>group B</td>\n",
       "      <td>master's degree</td>\n",
       "      <td>standard</td>\n",
       "      <td>none</td>\n",
       "      <td>90</td>\n",
       "      <td>95</td>\n",
       "      <td>93</td>\n",
       "    </tr>\n",
       "    <tr>\n",
       "      <th>3</th>\n",
       "      <td>male</td>\n",
       "      <td>group A</td>\n",
       "      <td>associate's degree</td>\n",
       "      <td>free/reduced</td>\n",
       "      <td>none</td>\n",
       "      <td>47</td>\n",
       "      <td>57</td>\n",
       "      <td>44</td>\n",
       "    </tr>\n",
       "    <tr>\n",
       "      <th>4</th>\n",
       "      <td>male</td>\n",
       "      <td>group C</td>\n",
       "      <td>some college</td>\n",
       "      <td>standard</td>\n",
       "      <td>none</td>\n",
       "      <td>76</td>\n",
       "      <td>78</td>\n",
       "      <td>75</td>\n",
       "    </tr>\n",
       "  </tbody>\n",
       "</table>\n",
       "</div>"
      ],
      "text/plain": [
       "   gender race/ethnicity parental level of education         lunch  \\\n",
       "0  female        group B           bachelor's degree      standard   \n",
       "1  female        group C                some college      standard   \n",
       "2  female        group B             master's degree      standard   \n",
       "3    male        group A          associate's degree  free/reduced   \n",
       "4    male        group C                some college      standard   \n",
       "\n",
       "  test preparation course  math score  reading score  writing score  \n",
       "0                    none          72             72             74  \n",
       "1               completed          69             90             88  \n",
       "2                    none          90             95             93  \n",
       "3                    none          47             57             44  \n",
       "4                    none          76             78             75  "
      ]
     },
     "execution_count": 3,
     "metadata": {},
     "output_type": "execute_result"
    }
   ],
   "source": [
    "df.head()"
   ]
  },
  {
   "cell_type": "code",
   "execution_count": 4,
   "id": "9a8be19a-040f-454f-b0e4-211ce1b67581",
   "metadata": {
    "canvas": {
     "comments": [],
     "componentType": "CodeCell",
     "copiedOriginId": null,
     "diskcache": false,
     "headerColor": "transparent",
     "id": "24a375f0-a017-4dea-90ec-26a7fda69262",
     "isComponent": false,
     "name": "",
     "parents": []
    }
   },
   "outputs": [
    {
     "data": {
      "text/plain": [
       "Index(['gender', 'race/ethnicity', 'parental level of education', 'lunch',\n",
       "       'test preparation course', 'math score', 'reading score',\n",
       "       'writing score'],\n",
       "      dtype='object')"
      ]
     },
     "execution_count": 4,
     "metadata": {},
     "output_type": "execute_result"
    }
   ],
   "source": [
    "df.columns"
   ]
  },
  {
   "cell_type": "markdown",
   "id": "57d8d071-1b97-4dbf-bc8d-5c676854c5c4",
   "metadata": {
    "canvas": {
     "comments": [],
     "componentType": "CodeCell",
     "copiedOriginId": null,
     "diskcache": false,
     "headerColor": "transparent",
     "id": "f4f89334-b79d-4fd0-b90c-6e0dd33991e8",
     "isComponent": false,
     "name": "",
     "parents": []
    },
    "tags": []
   },
   "source": [
    "## Pie charts"
   ]
  },
  {
   "cell_type": "markdown",
   "id": "9fe1e339-6189-4f03-891d-5e599758d64e",
   "metadata": {
    "canvas": {
     "comments": [],
     "componentType": "CodeCell",
     "copiedOriginId": null,
     "diskcache": false,
     "headerColor": "transparent",
     "id": "b25d11ba-c7b6-4629-83ff-748da53addf6",
     "isComponent": false,
     "name": "",
     "parents": []
    }
   },
   "source": [
    "### normal pie chart"
   ]
  },
  {
   "cell_type": "code",
   "execution_count": null,
   "id": "315703fa-cf90-4c20-ba3e-9e0982085180",
   "metadata": {
    "canvas": {
     "comments": [],
     "componentType": "CodeCell",
     "copiedOriginId": null,
     "diskcache": false,
     "headerColor": "transparent",
     "id": "c7b8af76-daca-40d2-92da-c3c3145e1d82",
     "isComponent": false,
     "name": "",
     "parents": []
    }
   },
   "outputs": [],
   "source": [
    "# df = px.data.tips()\n",
    "fig = px.pie(df, values='math score', names='race/ethnicity')\n",
    "fig.show()"
   ]
  },
  {
   "cell_type": "markdown",
   "id": "4ab61028-b8dd-4c07-a324-d6ca66481cb8",
   "metadata": {
    "canvas": {
     "comments": [],
     "componentType": "CodeCell",
     "copiedOriginId": null,
     "diskcache": false,
     "headerColor": "transparent",
     "id": "f0a0ffb6-3905-4655-b250-26926c12c220",
     "isComponent": false,
     "name": "",
     "parents": []
    }
   },
   "source": [
    "### pie chart with customization"
   ]
  },
  {
   "cell_type": "code",
   "execution_count": null,
   "id": "227de73b-4abe-46d9-8cf2-c4978cd2f603",
   "metadata": {
    "canvas": {
     "comments": [],
     "componentType": "CodeCell",
     "copiedOriginId": null,
     "diskcache": false,
     "headerColor": "transparent",
     "id": "d9c0766f-f726-492f-a5ca-3f9f7c333127",
     "isComponent": false,
     "name": "",
     "parents": []
    }
   },
   "outputs": [],
   "source": [
    "fig = px.pie(df, values='math score', names='race/ethnicity',color='parental level of education', hole=0.25)\n",
    "fig.update_traces(textinfo=\"label+percent\")\n",
    "# fig.update_traces(textinfo=\"label+percent\", insidetextfont= dict(color=\"white\"))\n",
    "# to change the color of the label\n",
    "fig.show()"
   ]
  },
  {
   "cell_type": "markdown",
   "id": "becd6e8f-b821-4b5b-b727-a4989d17c4fc",
   "metadata": {
    "canvas": {
     "comments": [],
     "componentType": "CodeCell",
     "copiedOriginId": null,
     "diskcache": false,
     "headerColor": "transparent",
     "id": "75e4e670-a24c-4639-b7d6-9f351cbaf798",
     "isComponent": false,
     "name": "",
     "parents": []
    },
    "tags": []
   },
   "source": [
    "## Bar charts"
   ]
  },
  {
   "cell_type": "markdown",
   "id": "3ab120d9-27b4-4b55-a31d-948a81b2f88f",
   "metadata": {
    "canvas": {
     "comments": [],
     "componentType": "CodeCell",
     "copiedOriginId": null,
     "diskcache": false,
     "headerColor": "transparent",
     "id": "6c40b381-e530-432c-82f2-e7f7ab988cce",
     "isComponent": false,
     "name": "",
     "parents": []
    },
    "jp-MarkdownHeadingCollapsed": true,
    "tags": []
   },
   "source": [
    "### bar charts"
   ]
  },
  {
   "cell_type": "code",
   "execution_count": null,
   "id": "b3625598-0fd9-4b73-9473-d797366ac150",
   "metadata": {
    "canvas": {
     "comments": [],
     "componentType": "CodeCell",
     "copiedOriginId": null,
     "diskcache": false,
     "headerColor": "transparent",
     "id": "e492b550-31d8-408e-a8b1-b504d437be3c",
     "isComponent": false,
     "name": "",
     "parents": []
    }
   },
   "outputs": [],
   "source": [
    "px.bar(data_frame=df, x='test preparation course', y='math score', color='gender', opacity=0.9, barmode='group')\n",
    "# barmode = 'group' or 'overlay' or 'relative' -> default\n",
    "# orientation = 'h' or 'v' h is default "
   ]
  },
  {
   "cell_type": "markdown",
   "id": "2f2c664e-07c2-40c1-864c-b35f647c68a7",
   "metadata": {
    "canvas": {
     "comments": [],
     "componentType": "CodeCell",
     "copiedOriginId": null,
     "diskcache": false,
     "headerColor": "transparent",
     "id": "6d86e2e6-535d-4565-b88c-73843063a48f",
     "isComponent": false,
     "name": "",
     "parents": []
    },
    "tags": []
   },
   "source": [
    "### bar chart with multiple row "
   ]
  },
  {
   "cell_type": "code",
   "execution_count": null,
   "id": "b566e075-588b-47d5-b55b-85b0c6202e2f",
   "metadata": {
    "canvas": {
     "comments": [],
     "componentType": "CodeCell",
     "copiedOriginId": null,
     "diskcache": false,
     "headerColor": "transparent",
     "id": "397cdb7a-2b14-4143-ba7b-1ff522389d06",
     "isComponent": false,
     "name": "",
     "parents": []
    }
   },
   "outputs": [],
   "source": [
    "px.bar(data_frame=df, x='test preparation course', y='math score', color='gender', opacity=0.9, barmode='relative', facet_col='lunch', facet_col_wrap=2)\n",
    "# we can also use  facet_row='lunch'"
   ]
  },
  {
   "cell_type": "code",
   "execution_count": null,
   "id": "c71810c3-8329-485e-a822-5454dd20300f",
   "metadata": {
    "canvas": {
     "comments": [],
     "componentType": "CodeCell",
     "copiedOriginId": null,
     "diskcache": false,
     "headerColor": "transparent",
     "id": "4b0cb528-2422-4f71-b2c1-72608683666f",
     "isComponent": false,
     "name": "",
     "parents": []
    }
   },
   "outputs": [],
   "source": [
    "px.bar(data_frame=df, x='test preparation course', y='math score', color='gender', opacity=0.9, barmode='relative', facet_row='lunch')\n",
    "# if facet_row is used do not use facet_col and vice versa"
   ]
  },
  {
   "cell_type": "markdown",
   "id": "e45b7dc1-ad88-4725-b903-c37b5b1dfdeb",
   "metadata": {
    "canvas": {
     "comments": [],
     "componentType": "CodeCell",
     "copiedOriginId": null,
     "diskcache": false,
     "headerColor": "transparent",
     "id": "3cf946f4-f1ed-416d-af3b-0b7bf20bc7ca",
     "isComponent": false,
     "name": "",
     "parents": []
    },
    "tags": []
   },
   "source": [
    "### with different color"
   ]
  },
  {
   "cell_type": "code",
   "execution_count": 15,
   "id": "5fce51da-f8d8-40a6-a17b-e9b2da5e141d",
   "metadata": {
    "canvas": {
     "comments": [],
     "componentType": "CodeCell",
     "copiedOriginId": null,
     "diskcache": false,
     "headerColor": "transparent",
     "id": "2db033cc-2cac-407b-8061-962fa9ecb0b6",
     "isComponent": false,
     "name": "",
     "parents": []
    }
   },
   "outputs": [
    {
     "data": {
      "application/vnd.plotly.v1+json": {
       "config": {
        "plotlyServerURL": "https://plot.ly"
       },
       "data": [
        {
         "alignmentgroup": "True",
         "hovertemplate": "gender=female<br>lunch=standard<br>test preparation course=%{x}<br>math score=%{y}<extra></extra>",
         "legendgroup": "female",
         "marker": {
          "color": "red",
          "opacity": 0.9,
          "pattern": {
           "shape": ""
          }
         },
         "name": "female",
         "offsetgroup": "female",
         "orientation": "v",
         "showlegend": true,
         "textposition": "auto",
         "type": "bar",
         "x": [
          "none",
          "completed",
          "none",
          "none",
          "completed",
          "none",
          "none",
          "none",
          "none",
          "none",
          "none",
          "none",
          "none",
          "none",
          "none",
          "none",
          "completed",
          "none",
          "completed",
          "none",
          "none",
          "none",
          "none",
          "completed",
          "none",
          "none",
          "none",
          "none",
          "none",
          "none",
          "none",
          "none",
          "completed",
          "none",
          "none",
          "none",
          "none",
          "none",
          "none",
          "completed",
          "none",
          "none",
          "none",
          "completed",
          "completed",
          "none",
          "none",
          "completed",
          "none",
          "none",
          "completed",
          "completed",
          "completed",
          "completed",
          "none",
          "completed",
          "completed",
          "none",
          "none",
          "completed",
          "completed",
          "completed",
          "none",
          "none",
          "none",
          "none",
          "none",
          "completed",
          "completed",
          "none",
          "completed",
          "completed",
          "none",
          "completed",
          "none",
          "completed",
          "none",
          "none",
          "completed",
          "none",
          "completed",
          "none",
          "none",
          "none",
          "none",
          "none",
          "completed",
          "none",
          "completed",
          "completed",
          "none",
          "none",
          "none",
          "completed",
          "completed",
          "none",
          "completed",
          "completed",
          "none",
          "none",
          "none",
          "none",
          "none",
          "none",
          "completed",
          "none",
          "completed",
          "none",
          "completed",
          "none",
          "none",
          "none",
          "none",
          "none",
          "none",
          "none",
          "completed",
          "none",
          "none",
          "none",
          "none",
          "none",
          "none",
          "none",
          "none",
          "completed",
          "none",
          "completed",
          "completed",
          "none",
          "none",
          "none",
          "completed",
          "completed",
          "completed",
          "none",
          "completed",
          "none",
          "none",
          "completed",
          "none",
          "none",
          "none",
          "none",
          "none",
          "completed",
          "none",
          "completed",
          "none",
          "completed",
          "completed",
          "none",
          "none",
          "none",
          "none",
          "none",
          "none",
          "none",
          "none",
          "none",
          "completed",
          "completed",
          "none",
          "none",
          "completed",
          "completed",
          "none",
          "completed",
          "completed",
          "none",
          "none",
          "completed",
          "none",
          "completed",
          "none",
          "none",
          "none",
          "none",
          "completed",
          "none",
          "completed",
          "completed",
          "none",
          "none",
          "none",
          "none",
          "none",
          "none",
          "none",
          "completed",
          "none",
          "none",
          "none",
          "none",
          "none",
          "none",
          "completed",
          "completed",
          "none",
          "none",
          "none",
          "none",
          "none",
          "none",
          "none",
          "none",
          "none",
          "none",
          "none",
          "none",
          "none",
          "completed",
          "completed",
          "none",
          "completed",
          "none",
          "completed",
          "completed",
          "none",
          "none",
          "completed",
          "completed",
          "completed",
          "completed",
          "none",
          "none",
          "none",
          "none",
          "completed",
          "completed",
          "completed",
          "completed",
          "completed",
          "none",
          "completed",
          "none",
          "none",
          "none",
          "completed",
          "none",
          "completed",
          "completed",
          "none",
          "none",
          "completed",
          "none",
          "completed",
          "completed",
          "none",
          "completed",
          "completed",
          "none",
          "completed",
          "completed",
          "none",
          "none",
          "none",
          "none",
          "completed",
          "none",
          "none",
          "completed",
          "none",
          "completed",
          "completed",
          "none",
          "none",
          "none",
          "none",
          "none",
          "none",
          "none",
          "completed",
          "none",
          "none",
          "none",
          "completed",
          "none",
          "completed",
          "completed",
          "completed",
          "none",
          "none",
          "none",
          "none",
          "none",
          "none",
          "none",
          "completed",
          "completed",
          "none",
          "none",
          "completed",
          "none",
          "completed",
          "completed",
          "completed",
          "none",
          "none",
          "completed",
          "none",
          "completed",
          "none",
          "completed",
          "none",
          "none",
          "completed",
          "none",
          "none",
          "none",
          "completed",
          "none",
          "none",
          "none",
          "none",
          "none",
          "none",
          "none",
          "none",
          "none",
          "none",
          "completed",
          "none",
          "completed",
          "none",
          "none",
          "completed",
          "completed",
          "completed"
         ],
         "xaxis": "x",
         "y": [
          72,
          69,
          90,
          71,
          88,
          65,
          50,
          69,
          69,
          67,
          62,
          69,
          63,
          74,
          58,
          53,
          55,
          66,
          82,
          69,
          59,
          60,
          39,
          61,
          62,
          47,
          73,
          71,
          58,
          73,
          65,
          79,
          63,
          65,
          85,
          58,
          87,
          70,
          51,
          99,
          78,
          51,
          55,
          79,
          88,
          87,
          51,
          75,
          59,
          76,
          68,
          59,
          70,
          61,
          81,
          96,
          68,
          79,
          63,
          81,
          71,
          97,
          50,
          65,
          77,
          66,
          62,
          69,
          67,
          57,
          56,
          52,
          72,
          88,
          67,
          64,
          80,
          56,
          58,
          65,
          60,
          62,
          70,
          99,
          63,
          69,
          88,
          65,
          85,
          59,
          37,
          67,
          65,
          67,
          74,
          73,
          59,
          77,
          75,
          71,
          82,
          41,
          83,
          61,
          69,
          72,
          77,
          52,
          63,
          46,
          59,
          61,
          80,
          58,
          52,
          73,
          82,
          59,
          80,
          71,
          80,
          67,
          64,
          62,
          77,
          65,
          85,
          59,
          88,
          54,
          63,
          82,
          70,
          57,
          59,
          61,
          67,
          78,
          73,
          67,
          100,
          79,
          100,
          71,
          84,
          83,
          63,
          68,
          59,
          90,
          71,
          55,
          49,
          64,
          83,
          81,
          54,
          54,
          66,
          74,
          94,
          95,
          82,
          86,
          54,
          76,
          74,
          66,
          66,
          91,
          62,
          68,
          47,
          79,
          51,
          81,
          82,
          64,
          92,
          40,
          55,
          74,
          63,
          53,
          74,
          81,
          53,
          81,
          77,
          73,
          69,
          65,
          55,
          54,
          48,
          74,
          92,
          56,
          69,
          65,
          54,
          29,
          76,
          85,
          61,
          58,
          58,
          65,
          82,
          60,
          37,
          44,
          66,
          75,
          80,
          76,
          74,
          65,
          59,
          50,
          69,
          68,
          85,
          65,
          73,
          62,
          65,
          69,
          65,
          69,
          50,
          73,
          70,
          67,
          94,
          49,
          77,
          49,
          75,
          59,
          57,
          79,
          57,
          63,
          80,
          98,
          60,
          96,
          76,
          65,
          87,
          81,
          59,
          77,
          84,
          48,
          62,
          74,
          58,
          68,
          66,
          72,
          77,
          52,
          32,
          19,
          48,
          42,
          52,
          87,
          82,
          73,
          54,
          72,
          45,
          77,
          85,
          65,
          77,
          60,
          75,
          66,
          59,
          61,
          87,
          97,
          65,
          53,
          71,
          70,
          59,
          64,
          71,
          51,
          62,
          93,
          86,
          85,
          59,
          65,
          73,
          79,
          69,
          52,
          68,
          44,
          57,
          78,
          58,
          54,
          75,
          62,
          92,
          45,
          56,
          100,
          62,
          68,
          75,
          89,
          54,
          64,
          91,
          78,
          74,
          40,
          65,
          88,
          68
         ],
         "yaxis": "y"
        },
        {
         "alignmentgroup": "True",
         "hovertemplate": "gender=female<br>lunch=free/reduced<br>test preparation course=%{x}<br>math score=%{y}<extra></extra>",
         "legendgroup": "female",
         "marker": {
          "color": "red",
          "opacity": 0.9,
          "pattern": {
           "shape": ""
          }
         },
         "name": "female",
         "offsetgroup": "female",
         "orientation": "v",
         "showlegend": false,
         "textposition": "auto",
         "type": "bar",
         "x": [
          "none",
          "none",
          "none",
          "completed",
          "none",
          "none",
          "completed",
          "none",
          "completed",
          "completed",
          "none",
          "none",
          "completed",
          "none",
          "none",
          "none",
          "none",
          "completed",
          "none",
          "none",
          "completed",
          "none",
          "completed",
          "completed",
          "completed",
          "completed",
          "completed",
          "completed",
          "completed",
          "none",
          "none",
          "none",
          "none",
          "none",
          "none",
          "none",
          "completed",
          "none",
          "none",
          "none",
          "none",
          "none",
          "completed",
          "completed",
          "none",
          "none",
          "none",
          "none",
          "none",
          "completed",
          "none",
          "none",
          "completed",
          "none",
          "completed",
          "none",
          "none",
          "none",
          "none",
          "completed",
          "completed",
          "none",
          "none",
          "completed",
          "completed",
          "none",
          "none",
          "none",
          "none",
          "none",
          "completed",
          "completed",
          "completed",
          "completed",
          "none",
          "none",
          "none",
          "completed",
          "none",
          "none",
          "none",
          "none",
          "completed",
          "none",
          "none",
          "none",
          "completed",
          "none",
          "completed",
          "completed",
          "none",
          "none",
          "completed",
          "none",
          "none",
          "none",
          "completed",
          "completed",
          "completed",
          "completed",
          "completed",
          "none",
          "none",
          "none",
          "none",
          "none",
          "completed",
          "completed",
          "none",
          "none",
          "none",
          "none",
          "completed",
          "completed",
          "none",
          "none",
          "completed",
          "none",
          "completed",
          "none",
          "completed",
          "completed",
          "completed",
          "none",
          "completed",
          "none",
          "completed",
          "none",
          "completed",
          "none",
          "none",
          "completed",
          "none",
          "completed",
          "none",
          "none",
          "none",
          "none",
          "completed",
          "none",
          "none",
          "none",
          "completed",
          "none",
          "none",
          "none",
          "none",
          "none",
          "none",
          "none",
          "completed",
          "completed",
          "none",
          "completed",
          "none",
          "completed",
          "completed",
          "none",
          "none",
          "none",
          "none",
          "none",
          "none",
          "completed",
          "completed",
          "completed",
          "none",
          "none",
          "completed",
          "none",
          "none",
          "none",
          "completed",
          "none",
          "none",
          "none",
          "completed",
          "none",
          "none",
          "completed",
          "completed",
          "none",
          "none",
          "none",
          "completed",
          "none",
          "none",
          "completed",
          "none"
         ],
         "xaxis": "x2",
         "y": [
          38,
          18,
          54,
          65,
          56,
          50,
          75,
          50,
          57,
          71,
          33,
          0,
          58,
          41,
          76,
          58,
          52,
          77,
          75,
          59,
          42,
          22,
          66,
          75,
          58,
          67,
          43,
          46,
          52,
          46,
          45,
          78,
          65,
          74,
          58,
          42,
          83,
          34,
          55,
          45,
          71,
          64,
          65,
          64,
          44,
          71,
          47,
          65,
          73,
          70,
          53,
          49,
          68,
          56,
          67,
          43,
          41,
          61,
          24,
          35,
          42,
          27,
          44,
          45,
          85,
          38,
          38,
          57,
          50,
          49,
          52,
          51,
          82,
          47,
          62,
          47,
          59,
          64,
          65,
          53,
          77,
          26,
          77,
          52,
          60,
          65,
          59,
          40,
          77,
          67,
          36,
          29,
          66,
          62,
          32,
          53,
          63,
          92,
          61,
          50,
          48,
          63,
          44,
          40,
          35,
          61,
          67,
          74,
          72,
          64,
          43,
          55,
          50,
          63,
          77,
          66,
          29,
          73,
          66,
          79,
          59,
          42,
          76,
          62,
          74,
          73,
          68,
          53,
          53,
          37,
          50,
          52,
          53,
          52,
          62,
          49,
          35,
          46,
          76,
          72,
          52,
          60,
          57,
          70,
          64,
          41,
          60,
          78,
          71,
          48,
          56,
          69,
          61,
          74,
          39,
          23,
          40,
          81,
          43,
          64,
          69,
          50,
          32,
          63,
          34,
          93,
          67,
          67,
          47,
          46,
          35,
          54,
          65,
          48,
          57,
          49,
          57,
          74,
          48,
          65,
          53,
          49,
          8,
          44,
          67,
          55,
          62,
          59,
          77
         ],
         "yaxis": "y2"
        },
        {
         "alignmentgroup": "True",
         "hovertemplate": "gender=male<br>lunch=standard<br>test preparation course=%{x}<br>math score=%{y}<extra></extra>",
         "legendgroup": "male",
         "marker": {
          "color": "blue",
          "opacity": 0.9,
          "pattern": {
           "shape": ""
          }
         },
         "name": "male",
         "offsetgroup": "male",
         "orientation": "v",
         "showlegend": true,
         "textposition": "auto",
         "type": "bar",
         "x": [
          "none",
          "none",
          "none",
          "completed",
          "none",
          "none",
          "none",
          "none",
          "none",
          "none",
          "none",
          "completed",
          "none",
          "completed",
          "none",
          "none",
          "none",
          "none",
          "completed",
          "none",
          "completed",
          "none",
          "none",
          "completed",
          "none",
          "none",
          "completed",
          "none",
          "completed",
          "completed",
          "completed",
          "completed",
          "none",
          "none",
          "none",
          "completed",
          "none",
          "none",
          "completed",
          "none",
          "none",
          "none",
          "completed",
          "none",
          "completed",
          "none",
          "none",
          "none",
          "completed",
          "none",
          "none",
          "none",
          "none",
          "completed",
          "none",
          "none",
          "completed",
          "completed",
          "completed",
          "none",
          "none",
          "none",
          "completed",
          "none",
          "completed",
          "completed",
          "completed",
          "completed",
          "none",
          "none",
          "none",
          "none",
          "none",
          "none",
          "completed",
          "none",
          "none",
          "none",
          "none",
          "none",
          "none",
          "none",
          "none",
          "completed",
          "none",
          "none",
          "completed",
          "completed",
          "none",
          "none",
          "none",
          "completed",
          "none",
          "none",
          "none",
          "completed",
          "completed",
          "completed",
          "none",
          "none",
          "completed",
          "completed",
          "completed",
          "none",
          "none",
          "completed",
          "none",
          "none",
          "completed",
          "none",
          "none",
          "none",
          "none",
          "completed",
          "none",
          "none",
          "completed",
          "none",
          "completed",
          "none",
          "completed",
          "none",
          "none",
          "none",
          "none",
          "none",
          "completed",
          "none",
          "completed",
          "none",
          "none",
          "none",
          "completed",
          "none",
          "none",
          "completed",
          "none",
          "none",
          "none",
          "completed",
          "completed",
          "completed",
          "none",
          "completed",
          "none",
          "completed",
          "none",
          "none",
          "none",
          "none",
          "none",
          "none",
          "none",
          "completed",
          "completed",
          "none",
          "none",
          "completed",
          "completed",
          "none",
          "completed",
          "none",
          "none",
          "completed",
          "none",
          "none",
          "completed",
          "completed",
          "none",
          "none",
          "none",
          "none",
          "none",
          "none",
          "none",
          "completed",
          "none",
          "completed",
          "completed",
          "completed",
          "completed",
          "completed",
          "completed",
          "completed",
          "none",
          "none",
          "none",
          "completed",
          "none",
          "completed",
          "none",
          "completed",
          "none",
          "none",
          "none",
          "none",
          "completed",
          "none",
          "none",
          "completed",
          "completed",
          "none",
          "none",
          "none",
          "none",
          "none",
          "none",
          "none",
          "none",
          "none",
          "none",
          "none",
          "none",
          "none",
          "completed",
          "none",
          "none",
          "completed",
          "completed",
          "completed",
          "none",
          "none",
          "none",
          "completed",
          "none",
          "completed",
          "none",
          "none",
          "completed",
          "completed",
          "none",
          "none",
          "none",
          "none",
          "none",
          "none",
          "none",
          "none",
          "none",
          "completed",
          "completed",
          "none",
          "none",
          "completed",
          "completed",
          "none",
          "completed",
          "none",
          "none",
          "none",
          "completed",
          "completed",
          "completed",
          "none",
          "none",
          "completed",
          "completed",
          "none",
          "none",
          "none",
          "completed",
          "completed",
          "none",
          "none",
          "none",
          "none",
          "none",
          "none",
          "none",
          "completed",
          "none",
          "none",
          "none",
          "none",
          "none",
          "completed",
          "none",
          "completed",
          "none",
          "none",
          "completed",
          "none",
          "none",
          "completed",
          "completed",
          "completed",
          "none",
          "none",
          "none",
          "completed",
          "completed",
          "completed",
          "none",
          "completed",
          "completed",
          "none",
          "completed",
          "completed",
          "none",
          "none",
          "none",
          "completed",
          "none",
          "none",
          "none",
          "none",
          "completed",
          "none",
          "completed",
          "none",
          "completed",
          "none",
          "completed",
          "none",
          "completed",
          "none"
         ],
         "xaxis": "x",
         "y": [
          76,
          58,
          40,
          78,
          88,
          66,
          44,
          69,
          70,
          40,
          97,
          81,
          65,
          82,
          53,
          53,
          88,
          52,
          58,
          67,
          63,
          49,
          30,
          80,
          72,
          71,
          65,
          79,
          68,
          60,
          98,
          66,
          62,
          54,
          84,
          91,
          83,
          72,
          65,
          82,
          89,
          58,
          51,
          70,
          71,
          57,
          88,
          88,
          62,
          77,
          54,
          62,
          52,
          72,
          94,
          80,
          62,
          76,
          77,
          61,
          69,
          59,
          74,
          82,
          81,
          87,
          84,
          61,
          87,
          86,
          57,
          76,
          46,
          92,
          83,
          80,
          54,
          84,
          59,
          75,
          85,
          89,
          68,
          47,
          80,
          54,
          78,
          79,
          76,
          69,
          58,
          88,
          83,
          53,
          45,
          81,
          97,
          77,
          76,
          86,
          63,
          46,
          71,
          80,
          69,
          99,
          51,
          66,
          67,
          71,
          83,
          63,
          61,
          82,
          71,
          47,
          62,
          90,
          76,
          49,
          67,
          79,
          62,
          87,
          66,
          63,
          85,
          59,
          69,
          84,
          74,
          66,
          87,
          73,
          76,
          57,
          74,
          60,
          53,
          65,
          87,
          84,
          71,
          63,
          84,
          71,
          74,
          68,
          86,
          61,
          73,
          75,
          70,
          89,
          86,
          47,
          81,
          72,
          75,
          91,
          76,
          80,
          76,
          73,
          59,
          70,
          64,
          68,
          76,
          68,
          79,
          76,
          64,
          71,
          69,
          53,
          68,
          62,
          73,
          51,
          85,
          97,
          75,
          72,
          79,
          53,
          73,
          96,
          48,
          71,
          91,
          61,
          71,
          68,
          53,
          75,
          94,
          88,
          95,
          100,
          100,
          61,
          67,
          79,
          84,
          71,
          86,
          41,
          70,
          69,
          90,
          73,
          80,
          73,
          81,
          60,
          62,
          62,
          85,
          87,
          46,
          66,
          89,
          93,
          81,
          73,
          50,
          47,
          81,
          68,
          53,
          55,
          67,
          92,
          81,
          80,
          72,
          69,
          69,
          87,
          71,
          68,
          55,
          69,
          78,
          60,
          76,
          52,
          75,
          66,
          94,
          91,
          89,
          70,
          69,
          67,
          76,
          90,
          59,
          51,
          87,
          94,
          62,
          68,
          64,
          58,
          73,
          64,
          90,
          91,
          64,
          80,
          71,
          82,
          62,
          52,
          97,
          82,
          61,
          59,
          82,
          81,
          57,
          63,
          88,
          67,
          85,
          88,
          57,
          70,
          100,
          91,
          72,
          74,
          98,
          67,
          85,
          77,
          81,
          82,
          94,
          58,
          72,
          84,
          75,
          72,
          66,
          63,
          78,
          62,
          55,
          81,
          79,
          57,
          81,
          63
         ],
         "yaxis": "y"
        },
        {
         "alignmentgroup": "True",
         "hovertemplate": "gender=male<br>lunch=free/reduced<br>test preparation course=%{x}<br>math score=%{y}<extra></extra>",
         "legendgroup": "male",
         "marker": {
          "color": "blue",
          "opacity": 0.9,
          "pattern": {
           "shape": ""
          }
         },
         "name": "male",
         "offsetgroup": "male",
         "orientation": "v",
         "showlegend": false,
         "textposition": "auto",
         "type": "bar",
         "x": [
          "none",
          "none",
          "completed",
          "completed",
          "completed",
          "none",
          "none",
          "none",
          "completed",
          "completed",
          "completed",
          "none",
          "none",
          "none",
          "none",
          "none",
          "none",
          "none",
          "completed",
          "none",
          "none",
          "completed",
          "completed",
          "none",
          "completed",
          "completed",
          "completed",
          "none",
          "completed",
          "none",
          "none",
          "completed",
          "none",
          "completed",
          "completed",
          "completed",
          "completed",
          "none",
          "completed",
          "none",
          "completed",
          "none",
          "completed",
          "none",
          "none",
          "none",
          "completed",
          "none",
          "none",
          "none",
          "completed",
          "none",
          "completed",
          "none",
          "completed",
          "none",
          "none",
          "none",
          "none",
          "none",
          "completed",
          "none",
          "none",
          "none",
          "completed",
          "none",
          "completed",
          "none",
          "none",
          "none",
          "none",
          "none",
          "completed",
          "none",
          "none",
          "none",
          "none",
          "none",
          "none",
          "none",
          "none",
          "completed",
          "none",
          "none",
          "completed",
          "none",
          "none",
          "none",
          "none",
          "completed",
          "completed",
          "completed",
          "none",
          "completed",
          "none",
          "none",
          "none",
          "none",
          "none",
          "completed",
          "none",
          "none",
          "none",
          "completed",
          "completed",
          "completed",
          "none",
          "completed",
          "completed",
          "none",
          "completed",
          "none",
          "none",
          "none",
          "none",
          "none",
          "none",
          "none",
          "none",
          "none",
          "none",
          "completed",
          "completed",
          "none",
          "none",
          "none",
          "completed",
          "none",
          "completed",
          "none",
          "none",
          "none",
          "none",
          "none",
          "completed",
          "completed",
          "completed",
          "completed",
          "none",
          "none",
          "completed",
          "none",
          "completed",
          "none",
          "none",
          "none",
          "none",
          "none",
          "none",
          "none",
          "none",
          "none",
          "none",
          "none",
          "completed",
          "completed",
          "none",
          "completed",
          "completed",
          "none",
          "completed",
          "completed",
          "completed",
          "completed",
          "completed",
          "none"
         ],
         "xaxis": "x2",
         "y": [
          47,
          40,
          64,
          46,
          74,
          73,
          57,
          55,
          59,
          77,
          79,
          39,
          62,
          45,
          61,
          61,
          44,
          49,
          50,
          42,
          27,
          43,
          78,
          63,
          53,
          87,
          74,
          73,
          100,
          60,
          66,
          82,
          49,
          53,
          62,
          45,
          65,
          48,
          59,
          55,
          80,
          35,
          60,
          66,
          68,
          63,
          73,
          59,
          73,
          88,
          78,
          67,
          40,
          90,
          81,
          56,
          28,
          58,
          75,
          59,
          49,
          61,
          46,
          79,
          73,
          48,
          57,
          41,
          69,
          65,
          68,
          64,
          50,
          75,
          79,
          69,
          65,
          37,
          53,
          53,
          54,
          72,
          68,
          61,
          79,
          63,
          55,
          62,
          54,
          56,
          79,
          78,
          79,
          87,
          77,
          61,
          48,
          63,
          68,
          40,
          58,
          30,
          60,
          84,
          69,
          65,
          62,
          58,
          69,
          49,
          51,
          77,
          74,
          52,
          81,
          63,
          77,
          53,
          93,
          66,
          62,
          91,
          55,
          55,
          61,
          55,
          79,
          58,
          70,
          58,
          68,
          66,
          75,
          45,
          61,
          49,
          58,
          74,
          75,
          87,
          39,
          59,
          78,
          49,
          90,
          80,
          55,
          54,
          44,
          36,
          50,
          69,
          74,
          64,
          46,
          67,
          62,
          61,
          70,
          70,
          72,
          61,
          49,
          60,
          86,
          62
         ],
         "yaxis": "y2"
        }
       ],
       "layout": {
        "annotations": [
         {
          "font": {},
          "showarrow": false,
          "text": "lunch=standard",
          "x": 0.245,
          "xanchor": "center",
          "xref": "paper",
          "y": 1,
          "yanchor": "bottom",
          "yref": "paper"
         },
         {
          "font": {},
          "showarrow": false,
          "text": "lunch=free/reduced",
          "x": 0.755,
          "xanchor": "center",
          "xref": "paper",
          "y": 1,
          "yanchor": "bottom",
          "yref": "paper"
         }
        ],
        "barmode": "relative",
        "legend": {
         "title": {
          "text": "gender"
         },
         "tracegroupgap": 0
        },
        "margin": {
         "t": 60
        },
        "template": {
         "data": {
          "bar": [
           {
            "error_x": {
             "color": "#f2f5fa"
            },
            "error_y": {
             "color": "#f2f5fa"
            },
            "marker": {
             "line": {
              "color": "rgb(17,17,17)",
              "width": 0.5
             },
             "pattern": {
              "fillmode": "overlay",
              "size": 10,
              "solidity": 0.2
             }
            },
            "type": "bar"
           }
          ],
          "barpolar": [
           {
            "marker": {
             "line": {
              "color": "rgb(17,17,17)",
              "width": 0.5
             },
             "pattern": {
              "fillmode": "overlay",
              "size": 10,
              "solidity": 0.2
             }
            },
            "type": "barpolar"
           }
          ],
          "carpet": [
           {
            "aaxis": {
             "endlinecolor": "#A2B1C6",
             "gridcolor": "#506784",
             "linecolor": "#506784",
             "minorgridcolor": "#506784",
             "startlinecolor": "#A2B1C6"
            },
            "baxis": {
             "endlinecolor": "#A2B1C6",
             "gridcolor": "#506784",
             "linecolor": "#506784",
             "minorgridcolor": "#506784",
             "startlinecolor": "#A2B1C6"
            },
            "type": "carpet"
           }
          ],
          "choropleth": [
           {
            "colorbar": {
             "outlinewidth": 0,
             "ticks": ""
            },
            "type": "choropleth"
           }
          ],
          "contour": [
           {
            "colorbar": {
             "outlinewidth": 0,
             "ticks": ""
            },
            "colorscale": [
             [
              0,
              "#0d0887"
             ],
             [
              0.1111111111111111,
              "#46039f"
             ],
             [
              0.2222222222222222,
              "#7201a8"
             ],
             [
              0.3333333333333333,
              "#9c179e"
             ],
             [
              0.4444444444444444,
              "#bd3786"
             ],
             [
              0.5555555555555556,
              "#d8576b"
             ],
             [
              0.6666666666666666,
              "#ed7953"
             ],
             [
              0.7777777777777778,
              "#fb9f3a"
             ],
             [
              0.8888888888888888,
              "#fdca26"
             ],
             [
              1,
              "#f0f921"
             ]
            ],
            "type": "contour"
           }
          ],
          "contourcarpet": [
           {
            "colorbar": {
             "outlinewidth": 0,
             "ticks": ""
            },
            "type": "contourcarpet"
           }
          ],
          "heatmap": [
           {
            "colorbar": {
             "outlinewidth": 0,
             "ticks": ""
            },
            "colorscale": [
             [
              0,
              "#0d0887"
             ],
             [
              0.1111111111111111,
              "#46039f"
             ],
             [
              0.2222222222222222,
              "#7201a8"
             ],
             [
              0.3333333333333333,
              "#9c179e"
             ],
             [
              0.4444444444444444,
              "#bd3786"
             ],
             [
              0.5555555555555556,
              "#d8576b"
             ],
             [
              0.6666666666666666,
              "#ed7953"
             ],
             [
              0.7777777777777778,
              "#fb9f3a"
             ],
             [
              0.8888888888888888,
              "#fdca26"
             ],
             [
              1,
              "#f0f921"
             ]
            ],
            "type": "heatmap"
           }
          ],
          "heatmapgl": [
           {
            "colorbar": {
             "outlinewidth": 0,
             "ticks": ""
            },
            "colorscale": [
             [
              0,
              "#0d0887"
             ],
             [
              0.1111111111111111,
              "#46039f"
             ],
             [
              0.2222222222222222,
              "#7201a8"
             ],
             [
              0.3333333333333333,
              "#9c179e"
             ],
             [
              0.4444444444444444,
              "#bd3786"
             ],
             [
              0.5555555555555556,
              "#d8576b"
             ],
             [
              0.6666666666666666,
              "#ed7953"
             ],
             [
              0.7777777777777778,
              "#fb9f3a"
             ],
             [
              0.8888888888888888,
              "#fdca26"
             ],
             [
              1,
              "#f0f921"
             ]
            ],
            "type": "heatmapgl"
           }
          ],
          "histogram": [
           {
            "marker": {
             "pattern": {
              "fillmode": "overlay",
              "size": 10,
              "solidity": 0.2
             }
            },
            "type": "histogram"
           }
          ],
          "histogram2d": [
           {
            "colorbar": {
             "outlinewidth": 0,
             "ticks": ""
            },
            "colorscale": [
             [
              0,
              "#0d0887"
             ],
             [
              0.1111111111111111,
              "#46039f"
             ],
             [
              0.2222222222222222,
              "#7201a8"
             ],
             [
              0.3333333333333333,
              "#9c179e"
             ],
             [
              0.4444444444444444,
              "#bd3786"
             ],
             [
              0.5555555555555556,
              "#d8576b"
             ],
             [
              0.6666666666666666,
              "#ed7953"
             ],
             [
              0.7777777777777778,
              "#fb9f3a"
             ],
             [
              0.8888888888888888,
              "#fdca26"
             ],
             [
              1,
              "#f0f921"
             ]
            ],
            "type": "histogram2d"
           }
          ],
          "histogram2dcontour": [
           {
            "colorbar": {
             "outlinewidth": 0,
             "ticks": ""
            },
            "colorscale": [
             [
              0,
              "#0d0887"
             ],
             [
              0.1111111111111111,
              "#46039f"
             ],
             [
              0.2222222222222222,
              "#7201a8"
             ],
             [
              0.3333333333333333,
              "#9c179e"
             ],
             [
              0.4444444444444444,
              "#bd3786"
             ],
             [
              0.5555555555555556,
              "#d8576b"
             ],
             [
              0.6666666666666666,
              "#ed7953"
             ],
             [
              0.7777777777777778,
              "#fb9f3a"
             ],
             [
              0.8888888888888888,
              "#fdca26"
             ],
             [
              1,
              "#f0f921"
             ]
            ],
            "type": "histogram2dcontour"
           }
          ],
          "mesh3d": [
           {
            "colorbar": {
             "outlinewidth": 0,
             "ticks": ""
            },
            "type": "mesh3d"
           }
          ],
          "parcoords": [
           {
            "line": {
             "colorbar": {
              "outlinewidth": 0,
              "ticks": ""
             }
            },
            "type": "parcoords"
           }
          ],
          "pie": [
           {
            "automargin": true,
            "type": "pie"
           }
          ],
          "scatter": [
           {
            "marker": {
             "line": {
              "color": "#283442"
             }
            },
            "type": "scatter"
           }
          ],
          "scatter3d": [
           {
            "line": {
             "colorbar": {
              "outlinewidth": 0,
              "ticks": ""
             }
            },
            "marker": {
             "colorbar": {
              "outlinewidth": 0,
              "ticks": ""
             }
            },
            "type": "scatter3d"
           }
          ],
          "scattercarpet": [
           {
            "marker": {
             "colorbar": {
              "outlinewidth": 0,
              "ticks": ""
             }
            },
            "type": "scattercarpet"
           }
          ],
          "scattergeo": [
           {
            "marker": {
             "colorbar": {
              "outlinewidth": 0,
              "ticks": ""
             }
            },
            "type": "scattergeo"
           }
          ],
          "scattergl": [
           {
            "marker": {
             "line": {
              "color": "#283442"
             }
            },
            "type": "scattergl"
           }
          ],
          "scattermapbox": [
           {
            "marker": {
             "colorbar": {
              "outlinewidth": 0,
              "ticks": ""
             }
            },
            "type": "scattermapbox"
           }
          ],
          "scatterpolar": [
           {
            "marker": {
             "colorbar": {
              "outlinewidth": 0,
              "ticks": ""
             }
            },
            "type": "scatterpolar"
           }
          ],
          "scatterpolargl": [
           {
            "marker": {
             "colorbar": {
              "outlinewidth": 0,
              "ticks": ""
             }
            },
            "type": "scatterpolargl"
           }
          ],
          "scatterternary": [
           {
            "marker": {
             "colorbar": {
              "outlinewidth": 0,
              "ticks": ""
             }
            },
            "type": "scatterternary"
           }
          ],
          "surface": [
           {
            "colorbar": {
             "outlinewidth": 0,
             "ticks": ""
            },
            "colorscale": [
             [
              0,
              "#0d0887"
             ],
             [
              0.1111111111111111,
              "#46039f"
             ],
             [
              0.2222222222222222,
              "#7201a8"
             ],
             [
              0.3333333333333333,
              "#9c179e"
             ],
             [
              0.4444444444444444,
              "#bd3786"
             ],
             [
              0.5555555555555556,
              "#d8576b"
             ],
             [
              0.6666666666666666,
              "#ed7953"
             ],
             [
              0.7777777777777778,
              "#fb9f3a"
             ],
             [
              0.8888888888888888,
              "#fdca26"
             ],
             [
              1,
              "#f0f921"
             ]
            ],
            "type": "surface"
           }
          ],
          "table": [
           {
            "cells": {
             "fill": {
              "color": "#506784"
             },
             "line": {
              "color": "rgb(17,17,17)"
             }
            },
            "header": {
             "fill": {
              "color": "#2a3f5f"
             },
             "line": {
              "color": "rgb(17,17,17)"
             }
            },
            "type": "table"
           }
          ]
         },
         "layout": {
          "annotationdefaults": {
           "arrowcolor": "#f2f5fa",
           "arrowhead": 0,
           "arrowwidth": 1
          },
          "autotypenumbers": "strict",
          "coloraxis": {
           "colorbar": {
            "outlinewidth": 0,
            "ticks": ""
           }
          },
          "colorscale": {
           "diverging": [
            [
             0,
             "#8e0152"
            ],
            [
             0.1,
             "#c51b7d"
            ],
            [
             0.2,
             "#de77ae"
            ],
            [
             0.3,
             "#f1b6da"
            ],
            [
             0.4,
             "#fde0ef"
            ],
            [
             0.5,
             "#f7f7f7"
            ],
            [
             0.6,
             "#e6f5d0"
            ],
            [
             0.7,
             "#b8e186"
            ],
            [
             0.8,
             "#7fbc41"
            ],
            [
             0.9,
             "#4d9221"
            ],
            [
             1,
             "#276419"
            ]
           ],
           "sequential": [
            [
             0,
             "#0d0887"
            ],
            [
             0.1111111111111111,
             "#46039f"
            ],
            [
             0.2222222222222222,
             "#7201a8"
            ],
            [
             0.3333333333333333,
             "#9c179e"
            ],
            [
             0.4444444444444444,
             "#bd3786"
            ],
            [
             0.5555555555555556,
             "#d8576b"
            ],
            [
             0.6666666666666666,
             "#ed7953"
            ],
            [
             0.7777777777777778,
             "#fb9f3a"
            ],
            [
             0.8888888888888888,
             "#fdca26"
            ],
            [
             1,
             "#f0f921"
            ]
           ],
           "sequentialminus": [
            [
             0,
             "#0d0887"
            ],
            [
             0.1111111111111111,
             "#46039f"
            ],
            [
             0.2222222222222222,
             "#7201a8"
            ],
            [
             0.3333333333333333,
             "#9c179e"
            ],
            [
             0.4444444444444444,
             "#bd3786"
            ],
            [
             0.5555555555555556,
             "#d8576b"
            ],
            [
             0.6666666666666666,
             "#ed7953"
            ],
            [
             0.7777777777777778,
             "#fb9f3a"
            ],
            [
             0.8888888888888888,
             "#fdca26"
            ],
            [
             1,
             "#f0f921"
            ]
           ]
          },
          "colorway": [
           "#636efa",
           "#EF553B",
           "#00cc96",
           "#ab63fa",
           "#FFA15A",
           "#19d3f3",
           "#FF6692",
           "#B6E880",
           "#FF97FF",
           "#FECB52"
          ],
          "font": {
           "color": "#f2f5fa"
          },
          "geo": {
           "bgcolor": "rgb(17,17,17)",
           "lakecolor": "rgb(17,17,17)",
           "landcolor": "rgb(17,17,17)",
           "showlakes": true,
           "showland": true,
           "subunitcolor": "#506784"
          },
          "hoverlabel": {
           "align": "left"
          },
          "hovermode": "closest",
          "mapbox": {
           "style": "dark"
          },
          "paper_bgcolor": "rgb(17,17,17)",
          "plot_bgcolor": "rgb(17,17,17)",
          "polar": {
           "angularaxis": {
            "gridcolor": "#506784",
            "linecolor": "#506784",
            "ticks": ""
           },
           "bgcolor": "rgb(17,17,17)",
           "radialaxis": {
            "gridcolor": "#506784",
            "linecolor": "#506784",
            "ticks": ""
           }
          },
          "scene": {
           "xaxis": {
            "backgroundcolor": "rgb(17,17,17)",
            "gridcolor": "#506784",
            "gridwidth": 2,
            "linecolor": "#506784",
            "showbackground": true,
            "ticks": "",
            "zerolinecolor": "#C8D4E3"
           },
           "yaxis": {
            "backgroundcolor": "rgb(17,17,17)",
            "gridcolor": "#506784",
            "gridwidth": 2,
            "linecolor": "#506784",
            "showbackground": true,
            "ticks": "",
            "zerolinecolor": "#C8D4E3"
           },
           "zaxis": {
            "backgroundcolor": "rgb(17,17,17)",
            "gridcolor": "#506784",
            "gridwidth": 2,
            "linecolor": "#506784",
            "showbackground": true,
            "ticks": "",
            "zerolinecolor": "#C8D4E3"
           }
          },
          "shapedefaults": {
           "line": {
            "color": "#f2f5fa"
           }
          },
          "sliderdefaults": {
           "bgcolor": "#C8D4E3",
           "bordercolor": "rgb(17,17,17)",
           "borderwidth": 1,
           "tickwidth": 0
          },
          "ternary": {
           "aaxis": {
            "gridcolor": "#506784",
            "linecolor": "#506784",
            "ticks": ""
           },
           "baxis": {
            "gridcolor": "#506784",
            "linecolor": "#506784",
            "ticks": ""
           },
           "bgcolor": "rgb(17,17,17)",
           "caxis": {
            "gridcolor": "#506784",
            "linecolor": "#506784",
            "ticks": ""
           }
          },
          "title": {
           "x": 0.05
          },
          "updatemenudefaults": {
           "bgcolor": "#506784",
           "borderwidth": 0
          },
          "xaxis": {
           "automargin": true,
           "gridcolor": "#283442",
           "linecolor": "#506784",
           "ticks": "",
           "title": {
            "standoff": 15
           },
           "zerolinecolor": "#283442",
           "zerolinewidth": 2
          },
          "yaxis": {
           "automargin": true,
           "gridcolor": "#283442",
           "linecolor": "#506784",
           "ticks": "",
           "title": {
            "standoff": 15
           },
           "zerolinecolor": "#283442",
           "zerolinewidth": 2
          }
         }
        },
        "xaxis": {
         "anchor": "y",
         "domain": [
          0,
          0.49
         ],
         "title": {
          "text": "test preparation course"
         }
        },
        "xaxis2": {
         "anchor": "y2",
         "domain": [
          0.51,
          1
         ],
         "matches": "x",
         "title": {
          "text": "test preparation course"
         }
        },
        "yaxis": {
         "anchor": "x",
         "domain": [
          0,
          1
         ],
         "title": {
          "text": "math score"
         }
        },
        "yaxis2": {
         "anchor": "x2",
         "domain": [
          0,
          1
         ],
         "matches": "y",
         "showticklabels": false
        }
       }
      },
      "text/html": [
       "<div>                            <div id=\"356f459a-867a-4cb2-a7f3-faffb716281b\" class=\"plotly-graph-div\" style=\"height:525px; width:100%;\"></div>            <script type=\"text/javascript\">                require([\"plotly\"], function(Plotly) {                    window.PLOTLYENV=window.PLOTLYENV || {};                                    if (document.getElementById(\"356f459a-867a-4cb2-a7f3-faffb716281b\")) {                    Plotly.newPlot(                        \"356f459a-867a-4cb2-a7f3-faffb716281b\",                        [{\"alignmentgroup\":\"True\",\"hovertemplate\":\"gender=female<br>lunch=standard<br>test preparation course=%{x}<br>math score=%{y}<extra></extra>\",\"legendgroup\":\"female\",\"marker\":{\"color\":\"red\",\"opacity\":0.9,\"pattern\":{\"shape\":\"\"}},\"name\":\"female\",\"offsetgroup\":\"female\",\"orientation\":\"v\",\"showlegend\":true,\"textposition\":\"auto\",\"x\":[\"none\",\"completed\",\"none\",\"none\",\"completed\",\"none\",\"none\",\"none\",\"none\",\"none\",\"none\",\"none\",\"none\",\"none\",\"none\",\"none\",\"completed\",\"none\",\"completed\",\"none\",\"none\",\"none\",\"none\",\"completed\",\"none\",\"none\",\"none\",\"none\",\"none\",\"none\",\"none\",\"none\",\"completed\",\"none\",\"none\",\"none\",\"none\",\"none\",\"none\",\"completed\",\"none\",\"none\",\"none\",\"completed\",\"completed\",\"none\",\"none\",\"completed\",\"none\",\"none\",\"completed\",\"completed\",\"completed\",\"completed\",\"none\",\"completed\",\"completed\",\"none\",\"none\",\"completed\",\"completed\",\"completed\",\"none\",\"none\",\"none\",\"none\",\"none\",\"completed\",\"completed\",\"none\",\"completed\",\"completed\",\"none\",\"completed\",\"none\",\"completed\",\"none\",\"none\",\"completed\",\"none\",\"completed\",\"none\",\"none\",\"none\",\"none\",\"none\",\"completed\",\"none\",\"completed\",\"completed\",\"none\",\"none\",\"none\",\"completed\",\"completed\",\"none\",\"completed\",\"completed\",\"none\",\"none\",\"none\",\"none\",\"none\",\"none\",\"completed\",\"none\",\"completed\",\"none\",\"completed\",\"none\",\"none\",\"none\",\"none\",\"none\",\"none\",\"none\",\"completed\",\"none\",\"none\",\"none\",\"none\",\"none\",\"none\",\"none\",\"none\",\"completed\",\"none\",\"completed\",\"completed\",\"none\",\"none\",\"none\",\"completed\",\"completed\",\"completed\",\"none\",\"completed\",\"none\",\"none\",\"completed\",\"none\",\"none\",\"none\",\"none\",\"none\",\"completed\",\"none\",\"completed\",\"none\",\"completed\",\"completed\",\"none\",\"none\",\"none\",\"none\",\"none\",\"none\",\"none\",\"none\",\"none\",\"completed\",\"completed\",\"none\",\"none\",\"completed\",\"completed\",\"none\",\"completed\",\"completed\",\"none\",\"none\",\"completed\",\"none\",\"completed\",\"none\",\"none\",\"none\",\"none\",\"completed\",\"none\",\"completed\",\"completed\",\"none\",\"none\",\"none\",\"none\",\"none\",\"none\",\"none\",\"completed\",\"none\",\"none\",\"none\",\"none\",\"none\",\"none\",\"completed\",\"completed\",\"none\",\"none\",\"none\",\"none\",\"none\",\"none\",\"none\",\"none\",\"none\",\"none\",\"none\",\"none\",\"none\",\"completed\",\"completed\",\"none\",\"completed\",\"none\",\"completed\",\"completed\",\"none\",\"none\",\"completed\",\"completed\",\"completed\",\"completed\",\"none\",\"none\",\"none\",\"none\",\"completed\",\"completed\",\"completed\",\"completed\",\"completed\",\"none\",\"completed\",\"none\",\"none\",\"none\",\"completed\",\"none\",\"completed\",\"completed\",\"none\",\"none\",\"completed\",\"none\",\"completed\",\"completed\",\"none\",\"completed\",\"completed\",\"none\",\"completed\",\"completed\",\"none\",\"none\",\"none\",\"none\",\"completed\",\"none\",\"none\",\"completed\",\"none\",\"completed\",\"completed\",\"none\",\"none\",\"none\",\"none\",\"none\",\"none\",\"none\",\"completed\",\"none\",\"none\",\"none\",\"completed\",\"none\",\"completed\",\"completed\",\"completed\",\"none\",\"none\",\"none\",\"none\",\"none\",\"none\",\"none\",\"completed\",\"completed\",\"none\",\"none\",\"completed\",\"none\",\"completed\",\"completed\",\"completed\",\"none\",\"none\",\"completed\",\"none\",\"completed\",\"none\",\"completed\",\"none\",\"none\",\"completed\",\"none\",\"none\",\"none\",\"completed\",\"none\",\"none\",\"none\",\"none\",\"none\",\"none\",\"none\",\"none\",\"none\",\"none\",\"completed\",\"none\",\"completed\",\"none\",\"none\",\"completed\",\"completed\",\"completed\"],\"xaxis\":\"x\",\"y\":[72,69,90,71,88,65,50,69,69,67,62,69,63,74,58,53,55,66,82,69,59,60,39,61,62,47,73,71,58,73,65,79,63,65,85,58,87,70,51,99,78,51,55,79,88,87,51,75,59,76,68,59,70,61,81,96,68,79,63,81,71,97,50,65,77,66,62,69,67,57,56,52,72,88,67,64,80,56,58,65,60,62,70,99,63,69,88,65,85,59,37,67,65,67,74,73,59,77,75,71,82,41,83,61,69,72,77,52,63,46,59,61,80,58,52,73,82,59,80,71,80,67,64,62,77,65,85,59,88,54,63,82,70,57,59,61,67,78,73,67,100,79,100,71,84,83,63,68,59,90,71,55,49,64,83,81,54,54,66,74,94,95,82,86,54,76,74,66,66,91,62,68,47,79,51,81,82,64,92,40,55,74,63,53,74,81,53,81,77,73,69,65,55,54,48,74,92,56,69,65,54,29,76,85,61,58,58,65,82,60,37,44,66,75,80,76,74,65,59,50,69,68,85,65,73,62,65,69,65,69,50,73,70,67,94,49,77,49,75,59,57,79,57,63,80,98,60,96,76,65,87,81,59,77,84,48,62,74,58,68,66,72,77,52,32,19,48,42,52,87,82,73,54,72,45,77,85,65,77,60,75,66,59,61,87,97,65,53,71,70,59,64,71,51,62,93,86,85,59,65,73,79,69,52,68,44,57,78,58,54,75,62,92,45,56,100,62,68,75,89,54,64,91,78,74,40,65,88,68],\"yaxis\":\"y\",\"type\":\"bar\"},{\"alignmentgroup\":\"True\",\"hovertemplate\":\"gender=female<br>lunch=free/reduced<br>test preparation course=%{x}<br>math score=%{y}<extra></extra>\",\"legendgroup\":\"female\",\"marker\":{\"color\":\"red\",\"opacity\":0.9,\"pattern\":{\"shape\":\"\"}},\"name\":\"female\",\"offsetgroup\":\"female\",\"orientation\":\"v\",\"showlegend\":false,\"textposition\":\"auto\",\"x\":[\"none\",\"none\",\"none\",\"completed\",\"none\",\"none\",\"completed\",\"none\",\"completed\",\"completed\",\"none\",\"none\",\"completed\",\"none\",\"none\",\"none\",\"none\",\"completed\",\"none\",\"none\",\"completed\",\"none\",\"completed\",\"completed\",\"completed\",\"completed\",\"completed\",\"completed\",\"completed\",\"none\",\"none\",\"none\",\"none\",\"none\",\"none\",\"none\",\"completed\",\"none\",\"none\",\"none\",\"none\",\"none\",\"completed\",\"completed\",\"none\",\"none\",\"none\",\"none\",\"none\",\"completed\",\"none\",\"none\",\"completed\",\"none\",\"completed\",\"none\",\"none\",\"none\",\"none\",\"completed\",\"completed\",\"none\",\"none\",\"completed\",\"completed\",\"none\",\"none\",\"none\",\"none\",\"none\",\"completed\",\"completed\",\"completed\",\"completed\",\"none\",\"none\",\"none\",\"completed\",\"none\",\"none\",\"none\",\"none\",\"completed\",\"none\",\"none\",\"none\",\"completed\",\"none\",\"completed\",\"completed\",\"none\",\"none\",\"completed\",\"none\",\"none\",\"none\",\"completed\",\"completed\",\"completed\",\"completed\",\"completed\",\"none\",\"none\",\"none\",\"none\",\"none\",\"completed\",\"completed\",\"none\",\"none\",\"none\",\"none\",\"completed\",\"completed\",\"none\",\"none\",\"completed\",\"none\",\"completed\",\"none\",\"completed\",\"completed\",\"completed\",\"none\",\"completed\",\"none\",\"completed\",\"none\",\"completed\",\"none\",\"none\",\"completed\",\"none\",\"completed\",\"none\",\"none\",\"none\",\"none\",\"completed\",\"none\",\"none\",\"none\",\"completed\",\"none\",\"none\",\"none\",\"none\",\"none\",\"none\",\"none\",\"completed\",\"completed\",\"none\",\"completed\",\"none\",\"completed\",\"completed\",\"none\",\"none\",\"none\",\"none\",\"none\",\"none\",\"completed\",\"completed\",\"completed\",\"none\",\"none\",\"completed\",\"none\",\"none\",\"none\",\"completed\",\"none\",\"none\",\"none\",\"completed\",\"none\",\"none\",\"completed\",\"completed\",\"none\",\"none\",\"none\",\"completed\",\"none\",\"none\",\"completed\",\"none\"],\"xaxis\":\"x2\",\"y\":[38,18,54,65,56,50,75,50,57,71,33,0,58,41,76,58,52,77,75,59,42,22,66,75,58,67,43,46,52,46,45,78,65,74,58,42,83,34,55,45,71,64,65,64,44,71,47,65,73,70,53,49,68,56,67,43,41,61,24,35,42,27,44,45,85,38,38,57,50,49,52,51,82,47,62,47,59,64,65,53,77,26,77,52,60,65,59,40,77,67,36,29,66,62,32,53,63,92,61,50,48,63,44,40,35,61,67,74,72,64,43,55,50,63,77,66,29,73,66,79,59,42,76,62,74,73,68,53,53,37,50,52,53,52,62,49,35,46,76,72,52,60,57,70,64,41,60,78,71,48,56,69,61,74,39,23,40,81,43,64,69,50,32,63,34,93,67,67,47,46,35,54,65,48,57,49,57,74,48,65,53,49,8,44,67,55,62,59,77],\"yaxis\":\"y2\",\"type\":\"bar\"},{\"alignmentgroup\":\"True\",\"hovertemplate\":\"gender=male<br>lunch=standard<br>test preparation course=%{x}<br>math score=%{y}<extra></extra>\",\"legendgroup\":\"male\",\"marker\":{\"color\":\"blue\",\"opacity\":0.9,\"pattern\":{\"shape\":\"\"}},\"name\":\"male\",\"offsetgroup\":\"male\",\"orientation\":\"v\",\"showlegend\":true,\"textposition\":\"auto\",\"x\":[\"none\",\"none\",\"none\",\"completed\",\"none\",\"none\",\"none\",\"none\",\"none\",\"none\",\"none\",\"completed\",\"none\",\"completed\",\"none\",\"none\",\"none\",\"none\",\"completed\",\"none\",\"completed\",\"none\",\"none\",\"completed\",\"none\",\"none\",\"completed\",\"none\",\"completed\",\"completed\",\"completed\",\"completed\",\"none\",\"none\",\"none\",\"completed\",\"none\",\"none\",\"completed\",\"none\",\"none\",\"none\",\"completed\",\"none\",\"completed\",\"none\",\"none\",\"none\",\"completed\",\"none\",\"none\",\"none\",\"none\",\"completed\",\"none\",\"none\",\"completed\",\"completed\",\"completed\",\"none\",\"none\",\"none\",\"completed\",\"none\",\"completed\",\"completed\",\"completed\",\"completed\",\"none\",\"none\",\"none\",\"none\",\"none\",\"none\",\"completed\",\"none\",\"none\",\"none\",\"none\",\"none\",\"none\",\"none\",\"none\",\"completed\",\"none\",\"none\",\"completed\",\"completed\",\"none\",\"none\",\"none\",\"completed\",\"none\",\"none\",\"none\",\"completed\",\"completed\",\"completed\",\"none\",\"none\",\"completed\",\"completed\",\"completed\",\"none\",\"none\",\"completed\",\"none\",\"none\",\"completed\",\"none\",\"none\",\"none\",\"none\",\"completed\",\"none\",\"none\",\"completed\",\"none\",\"completed\",\"none\",\"completed\",\"none\",\"none\",\"none\",\"none\",\"none\",\"completed\",\"none\",\"completed\",\"none\",\"none\",\"none\",\"completed\",\"none\",\"none\",\"completed\",\"none\",\"none\",\"none\",\"completed\",\"completed\",\"completed\",\"none\",\"completed\",\"none\",\"completed\",\"none\",\"none\",\"none\",\"none\",\"none\",\"none\",\"none\",\"completed\",\"completed\",\"none\",\"none\",\"completed\",\"completed\",\"none\",\"completed\",\"none\",\"none\",\"completed\",\"none\",\"none\",\"completed\",\"completed\",\"none\",\"none\",\"none\",\"none\",\"none\",\"none\",\"none\",\"completed\",\"none\",\"completed\",\"completed\",\"completed\",\"completed\",\"completed\",\"completed\",\"completed\",\"none\",\"none\",\"none\",\"completed\",\"none\",\"completed\",\"none\",\"completed\",\"none\",\"none\",\"none\",\"none\",\"completed\",\"none\",\"none\",\"completed\",\"completed\",\"none\",\"none\",\"none\",\"none\",\"none\",\"none\",\"none\",\"none\",\"none\",\"none\",\"none\",\"none\",\"none\",\"completed\",\"none\",\"none\",\"completed\",\"completed\",\"completed\",\"none\",\"none\",\"none\",\"completed\",\"none\",\"completed\",\"none\",\"none\",\"completed\",\"completed\",\"none\",\"none\",\"none\",\"none\",\"none\",\"none\",\"none\",\"none\",\"none\",\"completed\",\"completed\",\"none\",\"none\",\"completed\",\"completed\",\"none\",\"completed\",\"none\",\"none\",\"none\",\"completed\",\"completed\",\"completed\",\"none\",\"none\",\"completed\",\"completed\",\"none\",\"none\",\"none\",\"completed\",\"completed\",\"none\",\"none\",\"none\",\"none\",\"none\",\"none\",\"none\",\"completed\",\"none\",\"none\",\"none\",\"none\",\"none\",\"completed\",\"none\",\"completed\",\"none\",\"none\",\"completed\",\"none\",\"none\",\"completed\",\"completed\",\"completed\",\"none\",\"none\",\"none\",\"completed\",\"completed\",\"completed\",\"none\",\"completed\",\"completed\",\"none\",\"completed\",\"completed\",\"none\",\"none\",\"none\",\"completed\",\"none\",\"none\",\"none\",\"none\",\"completed\",\"none\",\"completed\",\"none\",\"completed\",\"none\",\"completed\",\"none\",\"completed\",\"none\"],\"xaxis\":\"x\",\"y\":[76,58,40,78,88,66,44,69,70,40,97,81,65,82,53,53,88,52,58,67,63,49,30,80,72,71,65,79,68,60,98,66,62,54,84,91,83,72,65,82,89,58,51,70,71,57,88,88,62,77,54,62,52,72,94,80,62,76,77,61,69,59,74,82,81,87,84,61,87,86,57,76,46,92,83,80,54,84,59,75,85,89,68,47,80,54,78,79,76,69,58,88,83,53,45,81,97,77,76,86,63,46,71,80,69,99,51,66,67,71,83,63,61,82,71,47,62,90,76,49,67,79,62,87,66,63,85,59,69,84,74,66,87,73,76,57,74,60,53,65,87,84,71,63,84,71,74,68,86,61,73,75,70,89,86,47,81,72,75,91,76,80,76,73,59,70,64,68,76,68,79,76,64,71,69,53,68,62,73,51,85,97,75,72,79,53,73,96,48,71,91,61,71,68,53,75,94,88,95,100,100,61,67,79,84,71,86,41,70,69,90,73,80,73,81,60,62,62,85,87,46,66,89,93,81,73,50,47,81,68,53,55,67,92,81,80,72,69,69,87,71,68,55,69,78,60,76,52,75,66,94,91,89,70,69,67,76,90,59,51,87,94,62,68,64,58,73,64,90,91,64,80,71,82,62,52,97,82,61,59,82,81,57,63,88,67,85,88,57,70,100,91,72,74,98,67,85,77,81,82,94,58,72,84,75,72,66,63,78,62,55,81,79,57,81,63],\"yaxis\":\"y\",\"type\":\"bar\"},{\"alignmentgroup\":\"True\",\"hovertemplate\":\"gender=male<br>lunch=free/reduced<br>test preparation course=%{x}<br>math score=%{y}<extra></extra>\",\"legendgroup\":\"male\",\"marker\":{\"color\":\"blue\",\"opacity\":0.9,\"pattern\":{\"shape\":\"\"}},\"name\":\"male\",\"offsetgroup\":\"male\",\"orientation\":\"v\",\"showlegend\":false,\"textposition\":\"auto\",\"x\":[\"none\",\"none\",\"completed\",\"completed\",\"completed\",\"none\",\"none\",\"none\",\"completed\",\"completed\",\"completed\",\"none\",\"none\",\"none\",\"none\",\"none\",\"none\",\"none\",\"completed\",\"none\",\"none\",\"completed\",\"completed\",\"none\",\"completed\",\"completed\",\"completed\",\"none\",\"completed\",\"none\",\"none\",\"completed\",\"none\",\"completed\",\"completed\",\"completed\",\"completed\",\"none\",\"completed\",\"none\",\"completed\",\"none\",\"completed\",\"none\",\"none\",\"none\",\"completed\",\"none\",\"none\",\"none\",\"completed\",\"none\",\"completed\",\"none\",\"completed\",\"none\",\"none\",\"none\",\"none\",\"none\",\"completed\",\"none\",\"none\",\"none\",\"completed\",\"none\",\"completed\",\"none\",\"none\",\"none\",\"none\",\"none\",\"completed\",\"none\",\"none\",\"none\",\"none\",\"none\",\"none\",\"none\",\"none\",\"completed\",\"none\",\"none\",\"completed\",\"none\",\"none\",\"none\",\"none\",\"completed\",\"completed\",\"completed\",\"none\",\"completed\",\"none\",\"none\",\"none\",\"none\",\"none\",\"completed\",\"none\",\"none\",\"none\",\"completed\",\"completed\",\"completed\",\"none\",\"completed\",\"completed\",\"none\",\"completed\",\"none\",\"none\",\"none\",\"none\",\"none\",\"none\",\"none\",\"none\",\"none\",\"none\",\"completed\",\"completed\",\"none\",\"none\",\"none\",\"completed\",\"none\",\"completed\",\"none\",\"none\",\"none\",\"none\",\"none\",\"completed\",\"completed\",\"completed\",\"completed\",\"none\",\"none\",\"completed\",\"none\",\"completed\",\"none\",\"none\",\"none\",\"none\",\"none\",\"none\",\"none\",\"none\",\"none\",\"none\",\"none\",\"completed\",\"completed\",\"none\",\"completed\",\"completed\",\"none\",\"completed\",\"completed\",\"completed\",\"completed\",\"completed\",\"none\"],\"xaxis\":\"x2\",\"y\":[47,40,64,46,74,73,57,55,59,77,79,39,62,45,61,61,44,49,50,42,27,43,78,63,53,87,74,73,100,60,66,82,49,53,62,45,65,48,59,55,80,35,60,66,68,63,73,59,73,88,78,67,40,90,81,56,28,58,75,59,49,61,46,79,73,48,57,41,69,65,68,64,50,75,79,69,65,37,53,53,54,72,68,61,79,63,55,62,54,56,79,78,79,87,77,61,48,63,68,40,58,30,60,84,69,65,62,58,69,49,51,77,74,52,81,63,77,53,93,66,62,91,55,55,61,55,79,58,70,58,68,66,75,45,61,49,58,74,75,87,39,59,78,49,90,80,55,54,44,36,50,69,74,64,46,67,62,61,70,70,72,61,49,60,86,62],\"yaxis\":\"y2\",\"type\":\"bar\"}],                        {\"template\":{\"data\":{\"barpolar\":[{\"marker\":{\"line\":{\"color\":\"rgb(17,17,17)\",\"width\":0.5},\"pattern\":{\"fillmode\":\"overlay\",\"size\":10,\"solidity\":0.2}},\"type\":\"barpolar\"}],\"bar\":[{\"error_x\":{\"color\":\"#f2f5fa\"},\"error_y\":{\"color\":\"#f2f5fa\"},\"marker\":{\"line\":{\"color\":\"rgb(17,17,17)\",\"width\":0.5},\"pattern\":{\"fillmode\":\"overlay\",\"size\":10,\"solidity\":0.2}},\"type\":\"bar\"}],\"carpet\":[{\"aaxis\":{\"endlinecolor\":\"#A2B1C6\",\"gridcolor\":\"#506784\",\"linecolor\":\"#506784\",\"minorgridcolor\":\"#506784\",\"startlinecolor\":\"#A2B1C6\"},\"baxis\":{\"endlinecolor\":\"#A2B1C6\",\"gridcolor\":\"#506784\",\"linecolor\":\"#506784\",\"minorgridcolor\":\"#506784\",\"startlinecolor\":\"#A2B1C6\"},\"type\":\"carpet\"}],\"choropleth\":[{\"colorbar\":{\"outlinewidth\":0,\"ticks\":\"\"},\"type\":\"choropleth\"}],\"contourcarpet\":[{\"colorbar\":{\"outlinewidth\":0,\"ticks\":\"\"},\"type\":\"contourcarpet\"}],\"contour\":[{\"colorbar\":{\"outlinewidth\":0,\"ticks\":\"\"},\"colorscale\":[[0.0,\"#0d0887\"],[0.1111111111111111,\"#46039f\"],[0.2222222222222222,\"#7201a8\"],[0.3333333333333333,\"#9c179e\"],[0.4444444444444444,\"#bd3786\"],[0.5555555555555556,\"#d8576b\"],[0.6666666666666666,\"#ed7953\"],[0.7777777777777778,\"#fb9f3a\"],[0.8888888888888888,\"#fdca26\"],[1.0,\"#f0f921\"]],\"type\":\"contour\"}],\"heatmapgl\":[{\"colorbar\":{\"outlinewidth\":0,\"ticks\":\"\"},\"colorscale\":[[0.0,\"#0d0887\"],[0.1111111111111111,\"#46039f\"],[0.2222222222222222,\"#7201a8\"],[0.3333333333333333,\"#9c179e\"],[0.4444444444444444,\"#bd3786\"],[0.5555555555555556,\"#d8576b\"],[0.6666666666666666,\"#ed7953\"],[0.7777777777777778,\"#fb9f3a\"],[0.8888888888888888,\"#fdca26\"],[1.0,\"#f0f921\"]],\"type\":\"heatmapgl\"}],\"heatmap\":[{\"colorbar\":{\"outlinewidth\":0,\"ticks\":\"\"},\"colorscale\":[[0.0,\"#0d0887\"],[0.1111111111111111,\"#46039f\"],[0.2222222222222222,\"#7201a8\"],[0.3333333333333333,\"#9c179e\"],[0.4444444444444444,\"#bd3786\"],[0.5555555555555556,\"#d8576b\"],[0.6666666666666666,\"#ed7953\"],[0.7777777777777778,\"#fb9f3a\"],[0.8888888888888888,\"#fdca26\"],[1.0,\"#f0f921\"]],\"type\":\"heatmap\"}],\"histogram2dcontour\":[{\"colorbar\":{\"outlinewidth\":0,\"ticks\":\"\"},\"colorscale\":[[0.0,\"#0d0887\"],[0.1111111111111111,\"#46039f\"],[0.2222222222222222,\"#7201a8\"],[0.3333333333333333,\"#9c179e\"],[0.4444444444444444,\"#bd3786\"],[0.5555555555555556,\"#d8576b\"],[0.6666666666666666,\"#ed7953\"],[0.7777777777777778,\"#fb9f3a\"],[0.8888888888888888,\"#fdca26\"],[1.0,\"#f0f921\"]],\"type\":\"histogram2dcontour\"}],\"histogram2d\":[{\"colorbar\":{\"outlinewidth\":0,\"ticks\":\"\"},\"colorscale\":[[0.0,\"#0d0887\"],[0.1111111111111111,\"#46039f\"],[0.2222222222222222,\"#7201a8\"],[0.3333333333333333,\"#9c179e\"],[0.4444444444444444,\"#bd3786\"],[0.5555555555555556,\"#d8576b\"],[0.6666666666666666,\"#ed7953\"],[0.7777777777777778,\"#fb9f3a\"],[0.8888888888888888,\"#fdca26\"],[1.0,\"#f0f921\"]],\"type\":\"histogram2d\"}],\"histogram\":[{\"marker\":{\"pattern\":{\"fillmode\":\"overlay\",\"size\":10,\"solidity\":0.2}},\"type\":\"histogram\"}],\"mesh3d\":[{\"colorbar\":{\"outlinewidth\":0,\"ticks\":\"\"},\"type\":\"mesh3d\"}],\"parcoords\":[{\"line\":{\"colorbar\":{\"outlinewidth\":0,\"ticks\":\"\"}},\"type\":\"parcoords\"}],\"pie\":[{\"automargin\":true,\"type\":\"pie\"}],\"scatter3d\":[{\"line\":{\"colorbar\":{\"outlinewidth\":0,\"ticks\":\"\"}},\"marker\":{\"colorbar\":{\"outlinewidth\":0,\"ticks\":\"\"}},\"type\":\"scatter3d\"}],\"scattercarpet\":[{\"marker\":{\"colorbar\":{\"outlinewidth\":0,\"ticks\":\"\"}},\"type\":\"scattercarpet\"}],\"scattergeo\":[{\"marker\":{\"colorbar\":{\"outlinewidth\":0,\"ticks\":\"\"}},\"type\":\"scattergeo\"}],\"scattergl\":[{\"marker\":{\"line\":{\"color\":\"#283442\"}},\"type\":\"scattergl\"}],\"scattermapbox\":[{\"marker\":{\"colorbar\":{\"outlinewidth\":0,\"ticks\":\"\"}},\"type\":\"scattermapbox\"}],\"scatterpolargl\":[{\"marker\":{\"colorbar\":{\"outlinewidth\":0,\"ticks\":\"\"}},\"type\":\"scatterpolargl\"}],\"scatterpolar\":[{\"marker\":{\"colorbar\":{\"outlinewidth\":0,\"ticks\":\"\"}},\"type\":\"scatterpolar\"}],\"scatter\":[{\"marker\":{\"line\":{\"color\":\"#283442\"}},\"type\":\"scatter\"}],\"scatterternary\":[{\"marker\":{\"colorbar\":{\"outlinewidth\":0,\"ticks\":\"\"}},\"type\":\"scatterternary\"}],\"surface\":[{\"colorbar\":{\"outlinewidth\":0,\"ticks\":\"\"},\"colorscale\":[[0.0,\"#0d0887\"],[0.1111111111111111,\"#46039f\"],[0.2222222222222222,\"#7201a8\"],[0.3333333333333333,\"#9c179e\"],[0.4444444444444444,\"#bd3786\"],[0.5555555555555556,\"#d8576b\"],[0.6666666666666666,\"#ed7953\"],[0.7777777777777778,\"#fb9f3a\"],[0.8888888888888888,\"#fdca26\"],[1.0,\"#f0f921\"]],\"type\":\"surface\"}],\"table\":[{\"cells\":{\"fill\":{\"color\":\"#506784\"},\"line\":{\"color\":\"rgb(17,17,17)\"}},\"header\":{\"fill\":{\"color\":\"#2a3f5f\"},\"line\":{\"color\":\"rgb(17,17,17)\"}},\"type\":\"table\"}]},\"layout\":{\"annotationdefaults\":{\"arrowcolor\":\"#f2f5fa\",\"arrowhead\":0,\"arrowwidth\":1},\"autotypenumbers\":\"strict\",\"coloraxis\":{\"colorbar\":{\"outlinewidth\":0,\"ticks\":\"\"}},\"colorscale\":{\"diverging\":[[0,\"#8e0152\"],[0.1,\"#c51b7d\"],[0.2,\"#de77ae\"],[0.3,\"#f1b6da\"],[0.4,\"#fde0ef\"],[0.5,\"#f7f7f7\"],[0.6,\"#e6f5d0\"],[0.7,\"#b8e186\"],[0.8,\"#7fbc41\"],[0.9,\"#4d9221\"],[1,\"#276419\"]],\"sequential\":[[0.0,\"#0d0887\"],[0.1111111111111111,\"#46039f\"],[0.2222222222222222,\"#7201a8\"],[0.3333333333333333,\"#9c179e\"],[0.4444444444444444,\"#bd3786\"],[0.5555555555555556,\"#d8576b\"],[0.6666666666666666,\"#ed7953\"],[0.7777777777777778,\"#fb9f3a\"],[0.8888888888888888,\"#fdca26\"],[1.0,\"#f0f921\"]],\"sequentialminus\":[[0.0,\"#0d0887\"],[0.1111111111111111,\"#46039f\"],[0.2222222222222222,\"#7201a8\"],[0.3333333333333333,\"#9c179e\"],[0.4444444444444444,\"#bd3786\"],[0.5555555555555556,\"#d8576b\"],[0.6666666666666666,\"#ed7953\"],[0.7777777777777778,\"#fb9f3a\"],[0.8888888888888888,\"#fdca26\"],[1.0,\"#f0f921\"]]},\"colorway\":[\"#636efa\",\"#EF553B\",\"#00cc96\",\"#ab63fa\",\"#FFA15A\",\"#19d3f3\",\"#FF6692\",\"#B6E880\",\"#FF97FF\",\"#FECB52\"],\"font\":{\"color\":\"#f2f5fa\"},\"geo\":{\"bgcolor\":\"rgb(17,17,17)\",\"lakecolor\":\"rgb(17,17,17)\",\"landcolor\":\"rgb(17,17,17)\",\"showlakes\":true,\"showland\":true,\"subunitcolor\":\"#506784\"},\"hoverlabel\":{\"align\":\"left\"},\"hovermode\":\"closest\",\"mapbox\":{\"style\":\"dark\"},\"paper_bgcolor\":\"rgb(17,17,17)\",\"plot_bgcolor\":\"rgb(17,17,17)\",\"polar\":{\"angularaxis\":{\"gridcolor\":\"#506784\",\"linecolor\":\"#506784\",\"ticks\":\"\"},\"bgcolor\":\"rgb(17,17,17)\",\"radialaxis\":{\"gridcolor\":\"#506784\",\"linecolor\":\"#506784\",\"ticks\":\"\"}},\"scene\":{\"xaxis\":{\"backgroundcolor\":\"rgb(17,17,17)\",\"gridcolor\":\"#506784\",\"gridwidth\":2,\"linecolor\":\"#506784\",\"showbackground\":true,\"ticks\":\"\",\"zerolinecolor\":\"#C8D4E3\"},\"yaxis\":{\"backgroundcolor\":\"rgb(17,17,17)\",\"gridcolor\":\"#506784\",\"gridwidth\":2,\"linecolor\":\"#506784\",\"showbackground\":true,\"ticks\":\"\",\"zerolinecolor\":\"#C8D4E3\"},\"zaxis\":{\"backgroundcolor\":\"rgb(17,17,17)\",\"gridcolor\":\"#506784\",\"gridwidth\":2,\"linecolor\":\"#506784\",\"showbackground\":true,\"ticks\":\"\",\"zerolinecolor\":\"#C8D4E3\"}},\"shapedefaults\":{\"line\":{\"color\":\"#f2f5fa\"}},\"sliderdefaults\":{\"bgcolor\":\"#C8D4E3\",\"bordercolor\":\"rgb(17,17,17)\",\"borderwidth\":1,\"tickwidth\":0},\"ternary\":{\"aaxis\":{\"gridcolor\":\"#506784\",\"linecolor\":\"#506784\",\"ticks\":\"\"},\"baxis\":{\"gridcolor\":\"#506784\",\"linecolor\":\"#506784\",\"ticks\":\"\"},\"bgcolor\":\"rgb(17,17,17)\",\"caxis\":{\"gridcolor\":\"#506784\",\"linecolor\":\"#506784\",\"ticks\":\"\"}},\"title\":{\"x\":0.05},\"updatemenudefaults\":{\"bgcolor\":\"#506784\",\"borderwidth\":0},\"xaxis\":{\"automargin\":true,\"gridcolor\":\"#283442\",\"linecolor\":\"#506784\",\"ticks\":\"\",\"title\":{\"standoff\":15},\"zerolinecolor\":\"#283442\",\"zerolinewidth\":2},\"yaxis\":{\"automargin\":true,\"gridcolor\":\"#283442\",\"linecolor\":\"#506784\",\"ticks\":\"\",\"title\":{\"standoff\":15},\"zerolinecolor\":\"#283442\",\"zerolinewidth\":2}}},\"xaxis\":{\"anchor\":\"y\",\"domain\":[0.0,0.49],\"title\":{\"text\":\"test preparation course\"}},\"yaxis\":{\"anchor\":\"x\",\"domain\":[0.0,1.0],\"title\":{\"text\":\"math score\"}},\"xaxis2\":{\"anchor\":\"y2\",\"domain\":[0.51,1.0],\"matches\":\"x\",\"title\":{\"text\":\"test preparation course\"}},\"yaxis2\":{\"anchor\":\"x2\",\"domain\":[0.0,1.0],\"matches\":\"y\",\"showticklabels\":false},\"annotations\":[{\"font\":{},\"showarrow\":false,\"text\":\"lunch=standard\",\"x\":0.245,\"xanchor\":\"center\",\"xref\":\"paper\",\"y\":1.0,\"yanchor\":\"bottom\",\"yref\":\"paper\"},{\"font\":{},\"showarrow\":false,\"text\":\"lunch=free/reduced\",\"x\":0.755,\"xanchor\":\"center\",\"xref\":\"paper\",\"y\":1.0,\"yanchor\":\"bottom\",\"yref\":\"paper\"}],\"legend\":{\"title\":{\"text\":\"gender\"},\"tracegroupgap\":0},\"margin\":{\"t\":60},\"barmode\":\"relative\"},                        {\"responsive\": true}                    ).then(function(){\n",
       "                            \n",
       "var gd = document.getElementById('356f459a-867a-4cb2-a7f3-faffb716281b');\n",
       "var x = new MutationObserver(function (mutations, observer) {{\n",
       "        var display = window.getComputedStyle(gd).display;\n",
       "        if (!display || display === 'none') {{\n",
       "            console.log([gd, 'removed!']);\n",
       "            Plotly.purge(gd);\n",
       "            observer.disconnect();\n",
       "        }}\n",
       "}});\n",
       "\n",
       "// Listen for the removal of the full notebook cells\n",
       "var notebookContainer = gd.closest('#notebook-container');\n",
       "if (notebookContainer) {{\n",
       "    x.observe(notebookContainer, {childList: true});\n",
       "}}\n",
       "\n",
       "// Listen for the clearing of the current output cell\n",
       "var outputEl = gd.closest('.output');\n",
       "if (outputEl) {{\n",
       "    x.observe(outputEl, {childList: true});\n",
       "}}\n",
       "\n",
       "                        })                };                });            </script>        </div>"
      ]
     },
     "metadata": {},
     "output_type": "display_data"
    }
   ],
   "source": [
    "px.bar(data_frame=df, x='test preparation course', y='math score', color='gender', opacity=0.9, barmode='relative', facet_col='lunch', facet_col_wrap=2,\n",
    "      # color_continuous_midpoint=100, \n",
    "      #color_continuous_scale=px.color.diverging.Picninc,\n",
    "      color_discrete_map={'male':'blue','female':'red'},\n",
    "      #color_discrete_sequence=['purple','black']\n",
    "      template='plotly_dark' \n",
    "      )\n"
   ]
  },
  {
   "cell_type": "markdown",
   "id": "6fd338b0",
   "metadata": {
    "canvas": {
     "comments": [],
     "componentType": "CodeCell",
     "copiedOriginId": null,
     "diskcache": false,
     "headerColor": "transparent",
     "id": "241271e8-12f7-4150-b59e-8c3a2424276e",
     "isComponent": false,
     "name": "",
     "parents": []
    }
   },
   "source": [
    "##### hover data change, animation could not work it out low network"
   ]
  },
  {
   "cell_type": "markdown",
   "id": "356a9ecf",
   "metadata": {},
   "source": [
    "## Scatter plot"
   ]
  },
  {
   "cell_type": "code",
   "execution_count": 9,
   "id": "c66e3914",
   "metadata": {},
   "outputs": [
    {
     "ename": "URLError",
     "evalue": "<urlopen error [WinError 10060] A connection attempt failed because the connected party did not properly respond after a period of time, or established connection failed because connected host has failed to respond>",
     "output_type": "error",
     "traceback": [
      "\u001b[1;31m---------------------------------------------------------------------------\u001b[0m",
      "\u001b[1;31mTimeoutError\u001b[0m                              Traceback (most recent call last)",
      "File \u001b[1;32m~\\anaconda\\lib\\urllib\\request.py:1348\u001b[0m, in \u001b[0;36mAbstractHTTPHandler.do_open\u001b[1;34m(self, http_class, req, **http_conn_args)\u001b[0m\n\u001b[0;32m   1347\u001b[0m \u001b[38;5;28;01mtry\u001b[39;00m:\n\u001b[1;32m-> 1348\u001b[0m     \u001b[43mh\u001b[49m\u001b[38;5;241;43m.\u001b[39;49m\u001b[43mrequest\u001b[49m\u001b[43m(\u001b[49m\u001b[43mreq\u001b[49m\u001b[38;5;241;43m.\u001b[39;49m\u001b[43mget_method\u001b[49m\u001b[43m(\u001b[49m\u001b[43m)\u001b[49m\u001b[43m,\u001b[49m\u001b[43m \u001b[49m\u001b[43mreq\u001b[49m\u001b[38;5;241;43m.\u001b[39;49m\u001b[43mselector\u001b[49m\u001b[43m,\u001b[49m\u001b[43m \u001b[49m\u001b[43mreq\u001b[49m\u001b[38;5;241;43m.\u001b[39;49m\u001b[43mdata\u001b[49m\u001b[43m,\u001b[49m\u001b[43m \u001b[49m\u001b[43mheaders\u001b[49m\u001b[43m,\u001b[49m\n\u001b[0;32m   1349\u001b[0m \u001b[43m              \u001b[49m\u001b[43mencode_chunked\u001b[49m\u001b[38;5;241;43m=\u001b[39;49m\u001b[43mreq\u001b[49m\u001b[38;5;241;43m.\u001b[39;49m\u001b[43mhas_header\u001b[49m\u001b[43m(\u001b[49m\u001b[38;5;124;43m'\u001b[39;49m\u001b[38;5;124;43mTransfer-encoding\u001b[39;49m\u001b[38;5;124;43m'\u001b[39;49m\u001b[43m)\u001b[49m\u001b[43m)\u001b[49m\n\u001b[0;32m   1350\u001b[0m \u001b[38;5;28;01mexcept\u001b[39;00m \u001b[38;5;167;01mOSError\u001b[39;00m \u001b[38;5;28;01mas\u001b[39;00m err: \u001b[38;5;66;03m# timeout error\u001b[39;00m\n",
      "File \u001b[1;32m~\\anaconda\\lib\\http\\client.py:1282\u001b[0m, in \u001b[0;36mHTTPConnection.request\u001b[1;34m(self, method, url, body, headers, encode_chunked)\u001b[0m\n\u001b[0;32m   1281\u001b[0m \u001b[38;5;250m\u001b[39m\u001b[38;5;124;03m\"\"\"Send a complete request to the server.\"\"\"\u001b[39;00m\n\u001b[1;32m-> 1282\u001b[0m \u001b[38;5;28;43mself\u001b[39;49m\u001b[38;5;241;43m.\u001b[39;49m\u001b[43m_send_request\u001b[49m\u001b[43m(\u001b[49m\u001b[43mmethod\u001b[49m\u001b[43m,\u001b[49m\u001b[43m \u001b[49m\u001b[43murl\u001b[49m\u001b[43m,\u001b[49m\u001b[43m \u001b[49m\u001b[43mbody\u001b[49m\u001b[43m,\u001b[49m\u001b[43m \u001b[49m\u001b[43mheaders\u001b[49m\u001b[43m,\u001b[49m\u001b[43m \u001b[49m\u001b[43mencode_chunked\u001b[49m\u001b[43m)\u001b[49m\n",
      "File \u001b[1;32m~\\anaconda\\lib\\http\\client.py:1328\u001b[0m, in \u001b[0;36mHTTPConnection._send_request\u001b[1;34m(self, method, url, body, headers, encode_chunked)\u001b[0m\n\u001b[0;32m   1327\u001b[0m     body \u001b[38;5;241m=\u001b[39m _encode(body, \u001b[38;5;124m'\u001b[39m\u001b[38;5;124mbody\u001b[39m\u001b[38;5;124m'\u001b[39m)\n\u001b[1;32m-> 1328\u001b[0m \u001b[38;5;28;43mself\u001b[39;49m\u001b[38;5;241;43m.\u001b[39;49m\u001b[43mendheaders\u001b[49m\u001b[43m(\u001b[49m\u001b[43mbody\u001b[49m\u001b[43m,\u001b[49m\u001b[43m \u001b[49m\u001b[43mencode_chunked\u001b[49m\u001b[38;5;241;43m=\u001b[39;49m\u001b[43mencode_chunked\u001b[49m\u001b[43m)\u001b[49m\n",
      "File \u001b[1;32m~\\anaconda\\lib\\http\\client.py:1277\u001b[0m, in \u001b[0;36mHTTPConnection.endheaders\u001b[1;34m(self, message_body, encode_chunked)\u001b[0m\n\u001b[0;32m   1276\u001b[0m     \u001b[38;5;28;01mraise\u001b[39;00m CannotSendHeader()\n\u001b[1;32m-> 1277\u001b[0m \u001b[38;5;28;43mself\u001b[39;49m\u001b[38;5;241;43m.\u001b[39;49m\u001b[43m_send_output\u001b[49m\u001b[43m(\u001b[49m\u001b[43mmessage_body\u001b[49m\u001b[43m,\u001b[49m\u001b[43m \u001b[49m\u001b[43mencode_chunked\u001b[49m\u001b[38;5;241;43m=\u001b[39;49m\u001b[43mencode_chunked\u001b[49m\u001b[43m)\u001b[49m\n",
      "File \u001b[1;32m~\\anaconda\\lib\\http\\client.py:1037\u001b[0m, in \u001b[0;36mHTTPConnection._send_output\u001b[1;34m(self, message_body, encode_chunked)\u001b[0m\n\u001b[0;32m   1036\u001b[0m \u001b[38;5;28;01mdel\u001b[39;00m \u001b[38;5;28mself\u001b[39m\u001b[38;5;241m.\u001b[39m_buffer[:]\n\u001b[1;32m-> 1037\u001b[0m \u001b[38;5;28;43mself\u001b[39;49m\u001b[38;5;241;43m.\u001b[39;49m\u001b[43msend\u001b[49m\u001b[43m(\u001b[49m\u001b[43mmsg\u001b[49m\u001b[43m)\u001b[49m\n\u001b[0;32m   1039\u001b[0m \u001b[38;5;28;01mif\u001b[39;00m message_body \u001b[38;5;129;01mis\u001b[39;00m \u001b[38;5;129;01mnot\u001b[39;00m \u001b[38;5;28;01mNone\u001b[39;00m:\n\u001b[0;32m   1040\u001b[0m \n\u001b[0;32m   1041\u001b[0m     \u001b[38;5;66;03m# create a consistent interface to message_body\u001b[39;00m\n",
      "File \u001b[1;32m~\\anaconda\\lib\\http\\client.py:975\u001b[0m, in \u001b[0;36mHTTPConnection.send\u001b[1;34m(self, data)\u001b[0m\n\u001b[0;32m    974\u001b[0m \u001b[38;5;28;01mif\u001b[39;00m \u001b[38;5;28mself\u001b[39m\u001b[38;5;241m.\u001b[39mauto_open:\n\u001b[1;32m--> 975\u001b[0m     \u001b[38;5;28;43mself\u001b[39;49m\u001b[38;5;241;43m.\u001b[39;49m\u001b[43mconnect\u001b[49m\u001b[43m(\u001b[49m\u001b[43m)\u001b[49m\n\u001b[0;32m    976\u001b[0m \u001b[38;5;28;01melse\u001b[39;00m:\n",
      "File \u001b[1;32m~\\anaconda\\lib\\http\\client.py:1447\u001b[0m, in \u001b[0;36mHTTPSConnection.connect\u001b[1;34m(self)\u001b[0m\n\u001b[0;32m   1445\u001b[0m \u001b[38;5;124m\"\u001b[39m\u001b[38;5;124mConnect to a host on a given (SSL) port.\u001b[39m\u001b[38;5;124m\"\u001b[39m\n\u001b[1;32m-> 1447\u001b[0m \u001b[38;5;28;43msuper\u001b[39;49m\u001b[43m(\u001b[49m\u001b[43m)\u001b[49m\u001b[38;5;241;43m.\u001b[39;49m\u001b[43mconnect\u001b[49m\u001b[43m(\u001b[49m\u001b[43m)\u001b[49m\n\u001b[0;32m   1449\u001b[0m \u001b[38;5;28;01mif\u001b[39;00m \u001b[38;5;28mself\u001b[39m\u001b[38;5;241m.\u001b[39m_tunnel_host:\n",
      "File \u001b[1;32m~\\anaconda\\lib\\http\\client.py:941\u001b[0m, in \u001b[0;36mHTTPConnection.connect\u001b[1;34m(self)\u001b[0m\n\u001b[0;32m    940\u001b[0m sys\u001b[38;5;241m.\u001b[39maudit(\u001b[38;5;124m\"\u001b[39m\u001b[38;5;124mhttp.client.connect\u001b[39m\u001b[38;5;124m\"\u001b[39m, \u001b[38;5;28mself\u001b[39m, \u001b[38;5;28mself\u001b[39m\u001b[38;5;241m.\u001b[39mhost, \u001b[38;5;28mself\u001b[39m\u001b[38;5;241m.\u001b[39mport)\n\u001b[1;32m--> 941\u001b[0m \u001b[38;5;28mself\u001b[39m\u001b[38;5;241m.\u001b[39msock \u001b[38;5;241m=\u001b[39m \u001b[38;5;28;43mself\u001b[39;49m\u001b[38;5;241;43m.\u001b[39;49m\u001b[43m_create_connection\u001b[49m\u001b[43m(\u001b[49m\n\u001b[0;32m    942\u001b[0m \u001b[43m    \u001b[49m\u001b[43m(\u001b[49m\u001b[38;5;28;43mself\u001b[39;49m\u001b[38;5;241;43m.\u001b[39;49m\u001b[43mhost\u001b[49m\u001b[43m,\u001b[49m\u001b[38;5;28;43mself\u001b[39;49m\u001b[38;5;241;43m.\u001b[39;49m\u001b[43mport\u001b[49m\u001b[43m)\u001b[49m\u001b[43m,\u001b[49m\u001b[43m \u001b[49m\u001b[38;5;28;43mself\u001b[39;49m\u001b[38;5;241;43m.\u001b[39;49m\u001b[43mtimeout\u001b[49m\u001b[43m,\u001b[49m\u001b[43m \u001b[49m\u001b[38;5;28;43mself\u001b[39;49m\u001b[38;5;241;43m.\u001b[39;49m\u001b[43msource_address\u001b[49m\u001b[43m)\u001b[49m\n\u001b[0;32m    943\u001b[0m \u001b[38;5;66;03m# Might fail in OSs that don't implement TCP_NODELAY\u001b[39;00m\n",
      "File \u001b[1;32m~\\anaconda\\lib\\socket.py:845\u001b[0m, in \u001b[0;36mcreate_connection\u001b[1;34m(address, timeout, source_address)\u001b[0m\n\u001b[0;32m    844\u001b[0m \u001b[38;5;28;01mtry\u001b[39;00m:\n\u001b[1;32m--> 845\u001b[0m     \u001b[38;5;28;01mraise\u001b[39;00m err\n\u001b[0;32m    846\u001b[0m \u001b[38;5;28;01mfinally\u001b[39;00m:\n\u001b[0;32m    847\u001b[0m     \u001b[38;5;66;03m# Break explicitly a reference cycle\u001b[39;00m\n",
      "File \u001b[1;32m~\\anaconda\\lib\\socket.py:833\u001b[0m, in \u001b[0;36mcreate_connection\u001b[1;34m(address, timeout, source_address)\u001b[0m\n\u001b[0;32m    832\u001b[0m     sock\u001b[38;5;241m.\u001b[39mbind(source_address)\n\u001b[1;32m--> 833\u001b[0m \u001b[43msock\u001b[49m\u001b[38;5;241;43m.\u001b[39;49m\u001b[43mconnect\u001b[49m\u001b[43m(\u001b[49m\u001b[43msa\u001b[49m\u001b[43m)\u001b[49m\n\u001b[0;32m    834\u001b[0m \u001b[38;5;66;03m# Break explicitly a reference cycle\u001b[39;00m\n",
      "\u001b[1;31mTimeoutError\u001b[0m: [WinError 10060] A connection attempt failed because the connected party did not properly respond after a period of time, or established connection failed because connected host has failed to respond",
      "\nDuring handling of the above exception, another exception occurred:\n",
      "\u001b[1;31mURLError\u001b[0m                                  Traceback (most recent call last)",
      "Cell \u001b[1;32mIn[9], line 1\u001b[0m\n\u001b[1;32m----> 1\u001b[0m sp \u001b[38;5;241m=\u001b[39m \u001b[43mpd\u001b[49m\u001b[38;5;241;43m.\u001b[39;49m\u001b[43mread_csv\u001b[49m\u001b[43m(\u001b[49m\u001b[38;5;124;43m'\u001b[39;49m\u001b[38;5;124;43mhttps://raw.githubusercontent.com/dphi-official/Datasets/master/female_labour_cleaned.csv\u001b[39;49m\u001b[38;5;124;43m'\u001b[39;49m\u001b[43m)\u001b[49m\n\u001b[0;32m      2\u001b[0m sp\u001b[38;5;241m.\u001b[39mcolumns\n",
      "File \u001b[1;32m~\\anaconda\\lib\\site-packages\\pandas\\util\\_decorators.py:211\u001b[0m, in \u001b[0;36mdeprecate_kwarg.<locals>._deprecate_kwarg.<locals>.wrapper\u001b[1;34m(*args, **kwargs)\u001b[0m\n\u001b[0;32m    209\u001b[0m     \u001b[38;5;28;01melse\u001b[39;00m:\n\u001b[0;32m    210\u001b[0m         kwargs[new_arg_name] \u001b[38;5;241m=\u001b[39m new_arg_value\n\u001b[1;32m--> 211\u001b[0m \u001b[38;5;28;01mreturn\u001b[39;00m func(\u001b[38;5;241m*\u001b[39margs, \u001b[38;5;241m*\u001b[39m\u001b[38;5;241m*\u001b[39mkwargs)\n",
      "File \u001b[1;32m~\\anaconda\\lib\\site-packages\\pandas\\util\\_decorators.py:331\u001b[0m, in \u001b[0;36mdeprecate_nonkeyword_arguments.<locals>.decorate.<locals>.wrapper\u001b[1;34m(*args, **kwargs)\u001b[0m\n\u001b[0;32m    325\u001b[0m \u001b[38;5;28;01mif\u001b[39;00m \u001b[38;5;28mlen\u001b[39m(args) \u001b[38;5;241m>\u001b[39m num_allow_args:\n\u001b[0;32m    326\u001b[0m     warnings\u001b[38;5;241m.\u001b[39mwarn(\n\u001b[0;32m    327\u001b[0m         msg\u001b[38;5;241m.\u001b[39mformat(arguments\u001b[38;5;241m=\u001b[39m_format_argument_list(allow_args)),\n\u001b[0;32m    328\u001b[0m         \u001b[38;5;167;01mFutureWarning\u001b[39;00m,\n\u001b[0;32m    329\u001b[0m         stacklevel\u001b[38;5;241m=\u001b[39mfind_stack_level(),\n\u001b[0;32m    330\u001b[0m     )\n\u001b[1;32m--> 331\u001b[0m \u001b[38;5;28;01mreturn\u001b[39;00m func(\u001b[38;5;241m*\u001b[39margs, \u001b[38;5;241m*\u001b[39m\u001b[38;5;241m*\u001b[39mkwargs)\n",
      "File \u001b[1;32m~\\anaconda\\lib\\site-packages\\pandas\\io\\parsers\\readers.py:950\u001b[0m, in \u001b[0;36mread_csv\u001b[1;34m(filepath_or_buffer, sep, delimiter, header, names, index_col, usecols, squeeze, prefix, mangle_dupe_cols, dtype, engine, converters, true_values, false_values, skipinitialspace, skiprows, skipfooter, nrows, na_values, keep_default_na, na_filter, verbose, skip_blank_lines, parse_dates, infer_datetime_format, keep_date_col, date_parser, dayfirst, cache_dates, iterator, chunksize, compression, thousands, decimal, lineterminator, quotechar, quoting, doublequote, escapechar, comment, encoding, encoding_errors, dialect, error_bad_lines, warn_bad_lines, on_bad_lines, delim_whitespace, low_memory, memory_map, float_precision, storage_options)\u001b[0m\n\u001b[0;32m    935\u001b[0m kwds_defaults \u001b[38;5;241m=\u001b[39m _refine_defaults_read(\n\u001b[0;32m    936\u001b[0m     dialect,\n\u001b[0;32m    937\u001b[0m     delimiter,\n\u001b[1;32m   (...)\u001b[0m\n\u001b[0;32m    946\u001b[0m     defaults\u001b[38;5;241m=\u001b[39m{\u001b[38;5;124m\"\u001b[39m\u001b[38;5;124mdelimiter\u001b[39m\u001b[38;5;124m\"\u001b[39m: \u001b[38;5;124m\"\u001b[39m\u001b[38;5;124m,\u001b[39m\u001b[38;5;124m\"\u001b[39m},\n\u001b[0;32m    947\u001b[0m )\n\u001b[0;32m    948\u001b[0m kwds\u001b[38;5;241m.\u001b[39mupdate(kwds_defaults)\n\u001b[1;32m--> 950\u001b[0m \u001b[38;5;28;01mreturn\u001b[39;00m \u001b[43m_read\u001b[49m\u001b[43m(\u001b[49m\u001b[43mfilepath_or_buffer\u001b[49m\u001b[43m,\u001b[49m\u001b[43m \u001b[49m\u001b[43mkwds\u001b[49m\u001b[43m)\u001b[49m\n",
      "File \u001b[1;32m~\\anaconda\\lib\\site-packages\\pandas\\io\\parsers\\readers.py:605\u001b[0m, in \u001b[0;36m_read\u001b[1;34m(filepath_or_buffer, kwds)\u001b[0m\n\u001b[0;32m    602\u001b[0m _validate_names(kwds\u001b[38;5;241m.\u001b[39mget(\u001b[38;5;124m\"\u001b[39m\u001b[38;5;124mnames\u001b[39m\u001b[38;5;124m\"\u001b[39m, \u001b[38;5;28;01mNone\u001b[39;00m))\n\u001b[0;32m    604\u001b[0m \u001b[38;5;66;03m# Create the parser.\u001b[39;00m\n\u001b[1;32m--> 605\u001b[0m parser \u001b[38;5;241m=\u001b[39m TextFileReader(filepath_or_buffer, \u001b[38;5;241m*\u001b[39m\u001b[38;5;241m*\u001b[39mkwds)\n\u001b[0;32m    607\u001b[0m \u001b[38;5;28;01mif\u001b[39;00m chunksize \u001b[38;5;129;01mor\u001b[39;00m iterator:\n\u001b[0;32m    608\u001b[0m     \u001b[38;5;28;01mreturn\u001b[39;00m parser\n",
      "File \u001b[1;32m~\\anaconda\\lib\\site-packages\\pandas\\io\\parsers\\readers.py:1442\u001b[0m, in \u001b[0;36mTextFileReader.__init__\u001b[1;34m(self, f, engine, **kwds)\u001b[0m\n\u001b[0;32m   1439\u001b[0m     \u001b[38;5;28mself\u001b[39m\u001b[38;5;241m.\u001b[39moptions[\u001b[38;5;124m\"\u001b[39m\u001b[38;5;124mhas_index_names\u001b[39m\u001b[38;5;124m\"\u001b[39m] \u001b[38;5;241m=\u001b[39m kwds[\u001b[38;5;124m\"\u001b[39m\u001b[38;5;124mhas_index_names\u001b[39m\u001b[38;5;124m\"\u001b[39m]\n\u001b[0;32m   1441\u001b[0m \u001b[38;5;28mself\u001b[39m\u001b[38;5;241m.\u001b[39mhandles: IOHandles \u001b[38;5;241m|\u001b[39m \u001b[38;5;28;01mNone\u001b[39;00m \u001b[38;5;241m=\u001b[39m \u001b[38;5;28;01mNone\u001b[39;00m\n\u001b[1;32m-> 1442\u001b[0m \u001b[38;5;28mself\u001b[39m\u001b[38;5;241m.\u001b[39m_engine \u001b[38;5;241m=\u001b[39m \u001b[38;5;28;43mself\u001b[39;49m\u001b[38;5;241;43m.\u001b[39;49m\u001b[43m_make_engine\u001b[49m\u001b[43m(\u001b[49m\u001b[43mf\u001b[49m\u001b[43m,\u001b[49m\u001b[43m \u001b[49m\u001b[38;5;28;43mself\u001b[39;49m\u001b[38;5;241;43m.\u001b[39;49m\u001b[43mengine\u001b[49m\u001b[43m)\u001b[49m\n",
      "File \u001b[1;32m~\\anaconda\\lib\\site-packages\\pandas\\io\\parsers\\readers.py:1735\u001b[0m, in \u001b[0;36mTextFileReader._make_engine\u001b[1;34m(self, f, engine)\u001b[0m\n\u001b[0;32m   1733\u001b[0m     \u001b[38;5;28;01mif\u001b[39;00m \u001b[38;5;124m\"\u001b[39m\u001b[38;5;124mb\u001b[39m\u001b[38;5;124m\"\u001b[39m \u001b[38;5;129;01mnot\u001b[39;00m \u001b[38;5;129;01min\u001b[39;00m mode:\n\u001b[0;32m   1734\u001b[0m         mode \u001b[38;5;241m+\u001b[39m\u001b[38;5;241m=\u001b[39m \u001b[38;5;124m\"\u001b[39m\u001b[38;5;124mb\u001b[39m\u001b[38;5;124m\"\u001b[39m\n\u001b[1;32m-> 1735\u001b[0m \u001b[38;5;28mself\u001b[39m\u001b[38;5;241m.\u001b[39mhandles \u001b[38;5;241m=\u001b[39m \u001b[43mget_handle\u001b[49m\u001b[43m(\u001b[49m\n\u001b[0;32m   1736\u001b[0m \u001b[43m    \u001b[49m\u001b[43mf\u001b[49m\u001b[43m,\u001b[49m\n\u001b[0;32m   1737\u001b[0m \u001b[43m    \u001b[49m\u001b[43mmode\u001b[49m\u001b[43m,\u001b[49m\n\u001b[0;32m   1738\u001b[0m \u001b[43m    \u001b[49m\u001b[43mencoding\u001b[49m\u001b[38;5;241;43m=\u001b[39;49m\u001b[38;5;28;43mself\u001b[39;49m\u001b[38;5;241;43m.\u001b[39;49m\u001b[43moptions\u001b[49m\u001b[38;5;241;43m.\u001b[39;49m\u001b[43mget\u001b[49m\u001b[43m(\u001b[49m\u001b[38;5;124;43m\"\u001b[39;49m\u001b[38;5;124;43mencoding\u001b[39;49m\u001b[38;5;124;43m\"\u001b[39;49m\u001b[43m,\u001b[49m\u001b[43m \u001b[49m\u001b[38;5;28;43;01mNone\u001b[39;49;00m\u001b[43m)\u001b[49m\u001b[43m,\u001b[49m\n\u001b[0;32m   1739\u001b[0m \u001b[43m    \u001b[49m\u001b[43mcompression\u001b[49m\u001b[38;5;241;43m=\u001b[39;49m\u001b[38;5;28;43mself\u001b[39;49m\u001b[38;5;241;43m.\u001b[39;49m\u001b[43moptions\u001b[49m\u001b[38;5;241;43m.\u001b[39;49m\u001b[43mget\u001b[49m\u001b[43m(\u001b[49m\u001b[38;5;124;43m\"\u001b[39;49m\u001b[38;5;124;43mcompression\u001b[39;49m\u001b[38;5;124;43m\"\u001b[39;49m\u001b[43m,\u001b[49m\u001b[43m \u001b[49m\u001b[38;5;28;43;01mNone\u001b[39;49;00m\u001b[43m)\u001b[49m\u001b[43m,\u001b[49m\n\u001b[0;32m   1740\u001b[0m \u001b[43m    \u001b[49m\u001b[43mmemory_map\u001b[49m\u001b[38;5;241;43m=\u001b[39;49m\u001b[38;5;28;43mself\u001b[39;49m\u001b[38;5;241;43m.\u001b[39;49m\u001b[43moptions\u001b[49m\u001b[38;5;241;43m.\u001b[39;49m\u001b[43mget\u001b[49m\u001b[43m(\u001b[49m\u001b[38;5;124;43m\"\u001b[39;49m\u001b[38;5;124;43mmemory_map\u001b[39;49m\u001b[38;5;124;43m\"\u001b[39;49m\u001b[43m,\u001b[49m\u001b[43m \u001b[49m\u001b[38;5;28;43;01mFalse\u001b[39;49;00m\u001b[43m)\u001b[49m\u001b[43m,\u001b[49m\n\u001b[0;32m   1741\u001b[0m \u001b[43m    \u001b[49m\u001b[43mis_text\u001b[49m\u001b[38;5;241;43m=\u001b[39;49m\u001b[43mis_text\u001b[49m\u001b[43m,\u001b[49m\n\u001b[0;32m   1742\u001b[0m \u001b[43m    \u001b[49m\u001b[43merrors\u001b[49m\u001b[38;5;241;43m=\u001b[39;49m\u001b[38;5;28;43mself\u001b[39;49m\u001b[38;5;241;43m.\u001b[39;49m\u001b[43moptions\u001b[49m\u001b[38;5;241;43m.\u001b[39;49m\u001b[43mget\u001b[49m\u001b[43m(\u001b[49m\u001b[38;5;124;43m\"\u001b[39;49m\u001b[38;5;124;43mencoding_errors\u001b[39;49m\u001b[38;5;124;43m\"\u001b[39;49m\u001b[43m,\u001b[49m\u001b[43m \u001b[49m\u001b[38;5;124;43m\"\u001b[39;49m\u001b[38;5;124;43mstrict\u001b[39;49m\u001b[38;5;124;43m\"\u001b[39;49m\u001b[43m)\u001b[49m\u001b[43m,\u001b[49m\n\u001b[0;32m   1743\u001b[0m \u001b[43m    \u001b[49m\u001b[43mstorage_options\u001b[49m\u001b[38;5;241;43m=\u001b[39;49m\u001b[38;5;28;43mself\u001b[39;49m\u001b[38;5;241;43m.\u001b[39;49m\u001b[43moptions\u001b[49m\u001b[38;5;241;43m.\u001b[39;49m\u001b[43mget\u001b[49m\u001b[43m(\u001b[49m\u001b[38;5;124;43m\"\u001b[39;49m\u001b[38;5;124;43mstorage_options\u001b[39;49m\u001b[38;5;124;43m\"\u001b[39;49m\u001b[43m,\u001b[49m\u001b[43m \u001b[49m\u001b[38;5;28;43;01mNone\u001b[39;49;00m\u001b[43m)\u001b[49m\u001b[43m,\u001b[49m\n\u001b[0;32m   1744\u001b[0m \u001b[43m\u001b[49m\u001b[43m)\u001b[49m\n\u001b[0;32m   1745\u001b[0m \u001b[38;5;28;01massert\u001b[39;00m \u001b[38;5;28mself\u001b[39m\u001b[38;5;241m.\u001b[39mhandles \u001b[38;5;129;01mis\u001b[39;00m \u001b[38;5;129;01mnot\u001b[39;00m \u001b[38;5;28;01mNone\u001b[39;00m\n\u001b[0;32m   1746\u001b[0m f \u001b[38;5;241m=\u001b[39m \u001b[38;5;28mself\u001b[39m\u001b[38;5;241m.\u001b[39mhandles\u001b[38;5;241m.\u001b[39mhandle\n",
      "File \u001b[1;32m~\\anaconda\\lib\\site-packages\\pandas\\io\\common.py:713\u001b[0m, in \u001b[0;36mget_handle\u001b[1;34m(path_or_buf, mode, encoding, compression, memory_map, is_text, errors, storage_options)\u001b[0m\n\u001b[0;32m    710\u001b[0m     codecs\u001b[38;5;241m.\u001b[39mlookup_error(errors)\n\u001b[0;32m    712\u001b[0m \u001b[38;5;66;03m# open URLs\u001b[39;00m\n\u001b[1;32m--> 713\u001b[0m ioargs \u001b[38;5;241m=\u001b[39m \u001b[43m_get_filepath_or_buffer\u001b[49m\u001b[43m(\u001b[49m\n\u001b[0;32m    714\u001b[0m \u001b[43m    \u001b[49m\u001b[43mpath_or_buf\u001b[49m\u001b[43m,\u001b[49m\n\u001b[0;32m    715\u001b[0m \u001b[43m    \u001b[49m\u001b[43mencoding\u001b[49m\u001b[38;5;241;43m=\u001b[39;49m\u001b[43mencoding\u001b[49m\u001b[43m,\u001b[49m\n\u001b[0;32m    716\u001b[0m \u001b[43m    \u001b[49m\u001b[43mcompression\u001b[49m\u001b[38;5;241;43m=\u001b[39;49m\u001b[43mcompression\u001b[49m\u001b[43m,\u001b[49m\n\u001b[0;32m    717\u001b[0m \u001b[43m    \u001b[49m\u001b[43mmode\u001b[49m\u001b[38;5;241;43m=\u001b[39;49m\u001b[43mmode\u001b[49m\u001b[43m,\u001b[49m\n\u001b[0;32m    718\u001b[0m \u001b[43m    \u001b[49m\u001b[43mstorage_options\u001b[49m\u001b[38;5;241;43m=\u001b[39;49m\u001b[43mstorage_options\u001b[49m\u001b[43m,\u001b[49m\n\u001b[0;32m    719\u001b[0m \u001b[43m\u001b[49m\u001b[43m)\u001b[49m\n\u001b[0;32m    721\u001b[0m handle \u001b[38;5;241m=\u001b[39m ioargs\u001b[38;5;241m.\u001b[39mfilepath_or_buffer\n\u001b[0;32m    722\u001b[0m handles: \u001b[38;5;28mlist\u001b[39m[BaseBuffer]\n",
      "File \u001b[1;32m~\\anaconda\\lib\\site-packages\\pandas\\io\\common.py:363\u001b[0m, in \u001b[0;36m_get_filepath_or_buffer\u001b[1;34m(filepath_or_buffer, encoding, compression, mode, storage_options)\u001b[0m\n\u001b[0;32m    361\u001b[0m \u001b[38;5;66;03m# assuming storage_options is to be interpreted as headers\u001b[39;00m\n\u001b[0;32m    362\u001b[0m req_info \u001b[38;5;241m=\u001b[39m urllib\u001b[38;5;241m.\u001b[39mrequest\u001b[38;5;241m.\u001b[39mRequest(filepath_or_buffer, headers\u001b[38;5;241m=\u001b[39mstorage_options)\n\u001b[1;32m--> 363\u001b[0m \u001b[38;5;28;01mwith\u001b[39;00m \u001b[43murlopen\u001b[49m\u001b[43m(\u001b[49m\u001b[43mreq_info\u001b[49m\u001b[43m)\u001b[49m \u001b[38;5;28;01mas\u001b[39;00m req:\n\u001b[0;32m    364\u001b[0m     content_encoding \u001b[38;5;241m=\u001b[39m req\u001b[38;5;241m.\u001b[39mheaders\u001b[38;5;241m.\u001b[39mget(\u001b[38;5;124m\"\u001b[39m\u001b[38;5;124mContent-Encoding\u001b[39m\u001b[38;5;124m\"\u001b[39m, \u001b[38;5;28;01mNone\u001b[39;00m)\n\u001b[0;32m    365\u001b[0m     \u001b[38;5;28;01mif\u001b[39;00m content_encoding \u001b[38;5;241m==\u001b[39m \u001b[38;5;124m\"\u001b[39m\u001b[38;5;124mgzip\u001b[39m\u001b[38;5;124m\"\u001b[39m:\n\u001b[0;32m    366\u001b[0m         \u001b[38;5;66;03m# Override compression based on Content-Encoding header\u001b[39;00m\n",
      "File \u001b[1;32m~\\anaconda\\lib\\site-packages\\pandas\\io\\common.py:265\u001b[0m, in \u001b[0;36murlopen\u001b[1;34m(*args, **kwargs)\u001b[0m\n\u001b[0;32m    259\u001b[0m \u001b[38;5;250m\u001b[39m\u001b[38;5;124;03m\"\"\"\u001b[39;00m\n\u001b[0;32m    260\u001b[0m \u001b[38;5;124;03mLazy-import wrapper for stdlib urlopen, as that imports a big chunk of\u001b[39;00m\n\u001b[0;32m    261\u001b[0m \u001b[38;5;124;03mthe stdlib.\u001b[39;00m\n\u001b[0;32m    262\u001b[0m \u001b[38;5;124;03m\"\"\"\u001b[39;00m\n\u001b[0;32m    263\u001b[0m \u001b[38;5;28;01mimport\u001b[39;00m \u001b[38;5;21;01murllib\u001b[39;00m\u001b[38;5;21;01m.\u001b[39;00m\u001b[38;5;21;01mrequest\u001b[39;00m\n\u001b[1;32m--> 265\u001b[0m \u001b[38;5;28;01mreturn\u001b[39;00m urllib\u001b[38;5;241m.\u001b[39mrequest\u001b[38;5;241m.\u001b[39murlopen(\u001b[38;5;241m*\u001b[39margs, \u001b[38;5;241m*\u001b[39m\u001b[38;5;241m*\u001b[39mkwargs)\n",
      "File \u001b[1;32m~\\anaconda\\lib\\urllib\\request.py:216\u001b[0m, in \u001b[0;36murlopen\u001b[1;34m(url, data, timeout, cafile, capath, cadefault, context)\u001b[0m\n\u001b[0;32m    214\u001b[0m \u001b[38;5;28;01melse\u001b[39;00m:\n\u001b[0;32m    215\u001b[0m     opener \u001b[38;5;241m=\u001b[39m _opener\n\u001b[1;32m--> 216\u001b[0m \u001b[38;5;28;01mreturn\u001b[39;00m \u001b[43mopener\u001b[49m\u001b[38;5;241;43m.\u001b[39;49m\u001b[43mopen\u001b[49m\u001b[43m(\u001b[49m\u001b[43murl\u001b[49m\u001b[43m,\u001b[49m\u001b[43m \u001b[49m\u001b[43mdata\u001b[49m\u001b[43m,\u001b[49m\u001b[43m \u001b[49m\u001b[43mtimeout\u001b[49m\u001b[43m)\u001b[49m\n",
      "File \u001b[1;32m~\\anaconda\\lib\\urllib\\request.py:519\u001b[0m, in \u001b[0;36mOpenerDirector.open\u001b[1;34m(self, fullurl, data, timeout)\u001b[0m\n\u001b[0;32m    516\u001b[0m     req \u001b[38;5;241m=\u001b[39m meth(req)\n\u001b[0;32m    518\u001b[0m sys\u001b[38;5;241m.\u001b[39maudit(\u001b[38;5;124m'\u001b[39m\u001b[38;5;124murllib.Request\u001b[39m\u001b[38;5;124m'\u001b[39m, req\u001b[38;5;241m.\u001b[39mfull_url, req\u001b[38;5;241m.\u001b[39mdata, req\u001b[38;5;241m.\u001b[39mheaders, req\u001b[38;5;241m.\u001b[39mget_method())\n\u001b[1;32m--> 519\u001b[0m response \u001b[38;5;241m=\u001b[39m \u001b[38;5;28;43mself\u001b[39;49m\u001b[38;5;241;43m.\u001b[39;49m\u001b[43m_open\u001b[49m\u001b[43m(\u001b[49m\u001b[43mreq\u001b[49m\u001b[43m,\u001b[49m\u001b[43m \u001b[49m\u001b[43mdata\u001b[49m\u001b[43m)\u001b[49m\n\u001b[0;32m    521\u001b[0m \u001b[38;5;66;03m# post-process response\u001b[39;00m\n\u001b[0;32m    522\u001b[0m meth_name \u001b[38;5;241m=\u001b[39m protocol\u001b[38;5;241m+\u001b[39m\u001b[38;5;124m\"\u001b[39m\u001b[38;5;124m_response\u001b[39m\u001b[38;5;124m\"\u001b[39m\n",
      "File \u001b[1;32m~\\anaconda\\lib\\urllib\\request.py:536\u001b[0m, in \u001b[0;36mOpenerDirector._open\u001b[1;34m(self, req, data)\u001b[0m\n\u001b[0;32m    533\u001b[0m     \u001b[38;5;28;01mreturn\u001b[39;00m result\n\u001b[0;32m    535\u001b[0m protocol \u001b[38;5;241m=\u001b[39m req\u001b[38;5;241m.\u001b[39mtype\n\u001b[1;32m--> 536\u001b[0m result \u001b[38;5;241m=\u001b[39m \u001b[38;5;28;43mself\u001b[39;49m\u001b[38;5;241;43m.\u001b[39;49m\u001b[43m_call_chain\u001b[49m\u001b[43m(\u001b[49m\u001b[38;5;28;43mself\u001b[39;49m\u001b[38;5;241;43m.\u001b[39;49m\u001b[43mhandle_open\u001b[49m\u001b[43m,\u001b[49m\u001b[43m \u001b[49m\u001b[43mprotocol\u001b[49m\u001b[43m,\u001b[49m\u001b[43m \u001b[49m\u001b[43mprotocol\u001b[49m\u001b[43m \u001b[49m\u001b[38;5;241;43m+\u001b[39;49m\n\u001b[0;32m    537\u001b[0m \u001b[43m                          \u001b[49m\u001b[38;5;124;43m'\u001b[39;49m\u001b[38;5;124;43m_open\u001b[39;49m\u001b[38;5;124;43m'\u001b[39;49m\u001b[43m,\u001b[49m\u001b[43m \u001b[49m\u001b[43mreq\u001b[49m\u001b[43m)\u001b[49m\n\u001b[0;32m    538\u001b[0m \u001b[38;5;28;01mif\u001b[39;00m result:\n\u001b[0;32m    539\u001b[0m     \u001b[38;5;28;01mreturn\u001b[39;00m result\n",
      "File \u001b[1;32m~\\anaconda\\lib\\urllib\\request.py:496\u001b[0m, in \u001b[0;36mOpenerDirector._call_chain\u001b[1;34m(self, chain, kind, meth_name, *args)\u001b[0m\n\u001b[0;32m    494\u001b[0m \u001b[38;5;28;01mfor\u001b[39;00m handler \u001b[38;5;129;01min\u001b[39;00m handlers:\n\u001b[0;32m    495\u001b[0m     func \u001b[38;5;241m=\u001b[39m \u001b[38;5;28mgetattr\u001b[39m(handler, meth_name)\n\u001b[1;32m--> 496\u001b[0m     result \u001b[38;5;241m=\u001b[39m \u001b[43mfunc\u001b[49m\u001b[43m(\u001b[49m\u001b[38;5;241;43m*\u001b[39;49m\u001b[43margs\u001b[49m\u001b[43m)\u001b[49m\n\u001b[0;32m    497\u001b[0m     \u001b[38;5;28;01mif\u001b[39;00m result \u001b[38;5;129;01mis\u001b[39;00m \u001b[38;5;129;01mnot\u001b[39;00m \u001b[38;5;28;01mNone\u001b[39;00m:\n\u001b[0;32m    498\u001b[0m         \u001b[38;5;28;01mreturn\u001b[39;00m result\n",
      "File \u001b[1;32m~\\anaconda\\lib\\urllib\\request.py:1391\u001b[0m, in \u001b[0;36mHTTPSHandler.https_open\u001b[1;34m(self, req)\u001b[0m\n\u001b[0;32m   1390\u001b[0m \u001b[38;5;28;01mdef\u001b[39;00m \u001b[38;5;21mhttps_open\u001b[39m(\u001b[38;5;28mself\u001b[39m, req):\n\u001b[1;32m-> 1391\u001b[0m     \u001b[38;5;28;01mreturn\u001b[39;00m \u001b[38;5;28;43mself\u001b[39;49m\u001b[38;5;241;43m.\u001b[39;49m\u001b[43mdo_open\u001b[49m\u001b[43m(\u001b[49m\u001b[43mhttp\u001b[49m\u001b[38;5;241;43m.\u001b[39;49m\u001b[43mclient\u001b[49m\u001b[38;5;241;43m.\u001b[39;49m\u001b[43mHTTPSConnection\u001b[49m\u001b[43m,\u001b[49m\u001b[43m \u001b[49m\u001b[43mreq\u001b[49m\u001b[43m,\u001b[49m\n\u001b[0;32m   1392\u001b[0m \u001b[43m        \u001b[49m\u001b[43mcontext\u001b[49m\u001b[38;5;241;43m=\u001b[39;49m\u001b[38;5;28;43mself\u001b[39;49m\u001b[38;5;241;43m.\u001b[39;49m\u001b[43m_context\u001b[49m\u001b[43m,\u001b[49m\u001b[43m \u001b[49m\u001b[43mcheck_hostname\u001b[49m\u001b[38;5;241;43m=\u001b[39;49m\u001b[38;5;28;43mself\u001b[39;49m\u001b[38;5;241;43m.\u001b[39;49m\u001b[43m_check_hostname\u001b[49m\u001b[43m)\u001b[49m\n",
      "File \u001b[1;32m~\\anaconda\\lib\\urllib\\request.py:1351\u001b[0m, in \u001b[0;36mAbstractHTTPHandler.do_open\u001b[1;34m(self, http_class, req, **http_conn_args)\u001b[0m\n\u001b[0;32m   1348\u001b[0m         h\u001b[38;5;241m.\u001b[39mrequest(req\u001b[38;5;241m.\u001b[39mget_method(), req\u001b[38;5;241m.\u001b[39mselector, req\u001b[38;5;241m.\u001b[39mdata, headers,\n\u001b[0;32m   1349\u001b[0m                   encode_chunked\u001b[38;5;241m=\u001b[39mreq\u001b[38;5;241m.\u001b[39mhas_header(\u001b[38;5;124m'\u001b[39m\u001b[38;5;124mTransfer-encoding\u001b[39m\u001b[38;5;124m'\u001b[39m))\n\u001b[0;32m   1350\u001b[0m     \u001b[38;5;28;01mexcept\u001b[39;00m \u001b[38;5;167;01mOSError\u001b[39;00m \u001b[38;5;28;01mas\u001b[39;00m err: \u001b[38;5;66;03m# timeout error\u001b[39;00m\n\u001b[1;32m-> 1351\u001b[0m         \u001b[38;5;28;01mraise\u001b[39;00m URLError(err)\n\u001b[0;32m   1352\u001b[0m     r \u001b[38;5;241m=\u001b[39m h\u001b[38;5;241m.\u001b[39mgetresponse()\n\u001b[0;32m   1353\u001b[0m \u001b[38;5;28;01mexcept\u001b[39;00m:\n",
      "\u001b[1;31mURLError\u001b[0m: <urlopen error [WinError 10060] A connection attempt failed because the connected party did not properly respond after a period of time, or established connection failed because connected host has failed to respond>"
     ]
    }
   ],
   "source": [
    "sp = pd.read_csv('https://raw.githubusercontent.com/dphi-official/Datasets/master/female_labour_cleaned.csv')\n",
    "sp.columns"
   ]
  },
  {
   "cell_type": "code",
   "execution_count": null,
   "id": "8e9b36b9",
   "metadata": {},
   "outputs": [],
   "source": [
    "sp.head()"
   ]
  }
 ],
 "metadata": {
  "canvas": {
   "colorPalette": [
    "inherit",
    "inherit",
    "inherit",
    "inherit",
    "inherit",
    "inherit",
    "inherit",
    "inherit",
    "inherit",
    "inherit"
   ],
   "parameters": [],
   "version": "1.0"
  },
  "kernelspec": {
   "display_name": "Python 3 (ipykernel)",
   "language": "python",
   "name": "python3"
  },
  "language_info": {
   "codemirror_mode": {
    "name": "ipython",
    "version": 3
   },
   "file_extension": ".py",
   "mimetype": "text/x-python",
   "name": "python",
   "nbconvert_exporter": "python",
   "pygments_lexer": "ipython3",
   "version": "3.10.9"
  }
 },
 "nbformat": 4,
 "nbformat_minor": 5
}
